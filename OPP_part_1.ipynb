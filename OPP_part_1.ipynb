{
  "nbformat": 4,
  "nbformat_minor": 0,
  "metadata": {
    "colab": {
      "provenance": [],
      "authorship_tag": "ABX9TyNWsUCpIyilODrBNrFBsOAP",
      "include_colab_link": true
    },
    "kernelspec": {
      "name": "python3",
      "display_name": "Python 3"
    },
    "language_info": {
      "name": "python"
    }
  },
  "cells": [
    {
      "cell_type": "markdown",
      "metadata": {
        "id": "view-in-github",
        "colab_type": "text"
      },
      "source": [
        "<a href=\"https://colab.research.google.com/github/maushamkumar/Python/blob/main/OPP_part_1.ipynb\" target=\"_parent\"><img src=\"https://colab.research.google.com/assets/colab-badge.svg\" alt=\"Open In Colab\"/></a>"
      ]
    },
    {
      "cell_type": "code",
      "execution_count": 36,
      "metadata": {
        "id": "Wrrm--5Xspg9"
      },
      "outputs": [],
      "source": [
        "import math\n",
        "class Point:\n",
        "    def __init__(self, x, y):\n",
        "        self.x_cod = x\n",
        "        self.y_cod = y\n",
        "\n",
        "    def __str__(self):\n",
        "        return '<{}, {}>'.format(self.x_cod, self.y_cod)\n",
        "\n",
        "    def euclidean_distance(self, other):\n",
        "      return math.sqrt((self.x_cod - other.x_cod) ** 2 + (self.y_cod - other.y_cod) ** 2)\n",
        "\n",
        "    def kuch(self):\n",
        "      return math.sqrt(self.x_cod ** 2 + self.y_cod ** 2)\n",
        "\n",
        "    def distance_from_origin(self):\n",
        "      return self.euclidean_distance(Point(0, 0))\n",
        "\n",
        "class Line:\n",
        "  def __init__(self, A, B, C):\n",
        "    self.A = A\n",
        "    self.B = B\n",
        "    self.C = C\n",
        "\n",
        "  def __str__(self):\n",
        "    # Formatting the A term\n",
        "    a_term = f\"{self.A}x\" if self.A != 0 else \"\"\n",
        "\n",
        "    # Formatting the B term\n",
        "    b_sign = '+' if self.B > 0 else '-'\n",
        "    b_term = f\" {b_sign} {abs(self.B)}y\" if self.B != 0 else \"\"\n",
        "\n",
        "    # Formatting the C term\n",
        "    c_sign = '+' if self.C > 0 else '-'\n",
        "    c_term = f\" {c_sign} {abs(self.C)}\" if self.C != 0 else \"\"\n",
        "\n",
        "    # Combining terms\n",
        "    line_str = f\"Line: {a_term}{b_term}{c_term}\"\n",
        "\n",
        "    return line_str.strip()\n",
        "  def point_on_line(line, point):\n",
        "    if line.A * point.x_cod + line.B * point.y_cod + line.C == 0:\n",
        "      return \"Lies on the line\"\n",
        "    else:\n",
        "      return \"Does not lie on the line\"\n",
        "\n",
        "  def shortest_distance(line, point):\n",
        "    return abs(line.A * point.x_cod + line.B * point.y_cod + line.C) / math.sqrt(line.A ** 2 + line.B ** 2)\n",
        "\n",
        "  def perpendicular_distance(line, point):\n",
        "    return abs(line.A * point.x_cod + line.B * point.y_cod) / math.sqrt(line.A ** 2 + line.B ** 2)\n",
        "\n",
        "  def Intersection(line1, line2):\n",
        "    x = (line1.B * line2.C - line1.C * line2.B) / (line1.A * line2.B - line1.B * line2.A)\n",
        "    y = (line1.C * line2.A - line1.A * line2.C) / (line1.A * line2.B - line1.B * line2.A)\n",
        "    return Point(x, y)"
      ]
    },
    {
      "cell_type": "code",
      "source": [
        "p1 = Point(0, 0)\n",
        "p2 = Point(10, 10)\n",
        "print(p1)\n",
        "p1.distance_from_origin()\n",
        "l1 = Line(1, 2, -3)\n",
        "print(l1)"
      ],
      "metadata": {
        "colab": {
          "base_uri": "https://localhost:8080/"
        },
        "id": "ijtgXUaNu7Jo",
        "outputId": "4c8ceda9-8aaa-4bc3-a468-152622f87aed"
      },
      "execution_count": 15,
      "outputs": [
        {
          "output_type": "stream",
          "name": "stdout",
          "text": [
            "<0, 0>\n",
            "Line: 1x + 2y -\n"
          ]
        }
      ]
    },
    {
      "cell_type": "code",
      "source": [
        "math.sqrt(2)"
      ],
      "metadata": {
        "colab": {
          "base_uri": "https://localhost:8080/"
        },
        "id": "3aHXQQSlu9jQ",
        "outputId": "7e2ec892-3b79-4e77-ad80-557ee4d6e42b"
      },
      "execution_count": 3,
      "outputs": [
        {
          "output_type": "execute_result",
          "data": {
            "text/plain": [
              "1.4142135623730951"
            ]
          },
          "metadata": {},
          "execution_count": 3
        }
      ]
    },
    {
      "cell_type": "code",
      "source": [
        "l1 = Line(1, 1, -2)\n",
        "print(l1)\n",
        "p1 = Point(1, 1)\n",
        "print(p1)\n",
        "print(l1.point_on_line(p1))\n",
        "print(l1.shortest_distance(p1))\n",
        "print(l1.perpendicular_distance(p1))"
      ],
      "metadata": {
        "colab": {
          "base_uri": "https://localhost:8080/"
        },
        "id": "rn2o2j2Nvxul",
        "outputId": "32da62a4-bc69-4af0-a89f-df9c73f7bbd4"
      },
      "execution_count": 40,
      "outputs": [
        {
          "output_type": "stream",
          "name": "stdout",
          "text": [
            "Line: 1x + 1y - 2\n",
            "<1, 1>\n",
            "Lies on the line\n",
            "0.0\n",
            "1.414213562373095\n"
          ]
        }
      ]
    },
    {
      "cell_type": "code",
      "source": [
        "# Create a class person\n",
        "class person:\n",
        "  def __init__(self, name_input, country_input):\n",
        "    self.name = name_input\n",
        "    self.country = country_input\n",
        "\n",
        "  def greet(self):\n",
        "    if self.country.lower() == 'india':\n",
        "      print('Namaste', self.name)\n",
        "    else:\n",
        "      print('Hello', self.name)"
      ],
      "metadata": {
        "id": "7SnMl4e2KQJF"
      },
      "execution_count": 44,
      "outputs": []
    },
    {
      "cell_type": "code",
      "source": [
        "# How to access attributes(data)\n",
        "p = person('Mausham', 'India')\n",
        "p.greet()\n",
        "# Objects have the power to access the attributes and methods"
      ],
      "metadata": {
        "colab": {
          "base_uri": "https://localhost:8080/"
        },
        "id": "OEF-WYAEKQMH",
        "outputId": "b193e82b-7eb5-4bb2-ac16-dfc18e9fa8b0"
      },
      "execution_count": 47,
      "outputs": [
        {
          "output_type": "stream",
          "name": "stdout",
          "text": [
            "Namaste Mausham\n"
          ]
        }
      ]
    },
    {
      "cell_type": "code",
      "source": [
        "p.name"
      ],
      "metadata": {
        "colab": {
          "base_uri": "https://localhost:8080/",
          "height": 35
        },
        "id": "EkpGTdvaKQO8",
        "outputId": "64c5c38e-ae92-4bab-d458-4f69b00a9db6"
      },
      "execution_count": 48,
      "outputs": [
        {
          "output_type": "execute_result",
          "data": {
            "text/plain": [
              "'Mausham'"
            ],
            "application/vnd.google.colaboratory.intrinsic+json": {
              "type": "string"
            }
          },
          "metadata": {},
          "execution_count": 48
        }
      ]
    },
    {
      "cell_type": "code",
      "source": [
        "p.country"
      ],
      "metadata": {
        "colab": {
          "base_uri": "https://localhost:8080/",
          "height": 35
        },
        "id": "YVnCk7FaKQRo",
        "outputId": "8629cbef-028e-434e-fbc7-d54a313a2958"
      },
      "execution_count": 49,
      "outputs": [
        {
          "output_type": "execute_result",
          "data": {
            "text/plain": [
              "'India'"
            ],
            "application/vnd.google.colaboratory.intrinsic+json": {
              "type": "string"
            }
          },
          "metadata": {},
          "execution_count": 49
        }
      ]
    },
    {
      "cell_type": "code",
      "source": [
        "# How to access methods\n",
        "p.greet()"
      ],
      "metadata": {
        "colab": {
          "base_uri": "https://localhost:8080/"
        },
        "id": "TmFvV3JMKQUc",
        "outputId": "bcf3a791-f5d2-439e-94d9-ab7c48574a3d"
      },
      "execution_count": 50,
      "outputs": [
        {
          "output_type": "stream",
          "name": "stdout",
          "text": [
            "Namaste Mausham\n"
          ]
        }
      ]
    },
    {
      "cell_type": "code",
      "source": [
        "# What if i try to access non-existent attributes\n",
        "p.gender"
      ],
      "metadata": {
        "colab": {
          "base_uri": "https://localhost:8080/",
          "height": 159
        },
        "id": "tErfJ27sKQXh",
        "outputId": "2a3900c0-6d44-423e-8437-762ab88db202"
      },
      "execution_count": 51,
      "outputs": [
        {
          "output_type": "error",
          "ename": "AttributeError",
          "evalue": "'person' object has no attribute 'gender'",
          "traceback": [
            "\u001b[0;31m---------------------------------------------------------------------------\u001b[0m",
            "\u001b[0;31mAttributeError\u001b[0m                            Traceback (most recent call last)",
            "\u001b[0;32m<ipython-input-51-0d0832a66c09>\u001b[0m in \u001b[0;36m<cell line: 2>\u001b[0;34m()\u001b[0m\n\u001b[1;32m      1\u001b[0m \u001b[0;31m# What if i try to access non-existent attributes\u001b[0m\u001b[0;34m\u001b[0m\u001b[0;34m\u001b[0m\u001b[0m\n\u001b[0;32m----> 2\u001b[0;31m \u001b[0mp\u001b[0m\u001b[0;34m.\u001b[0m\u001b[0mgender\u001b[0m\u001b[0;34m\u001b[0m\u001b[0;34m\u001b[0m\u001b[0m\n\u001b[0m",
            "\u001b[0;31mAttributeError\u001b[0m: 'person' object has no attribute 'gender'"
          ]
        }
      ]
    },
    {
      "cell_type": "markdown",
      "source": [
        "# Attribute creation from outside of the class"
      ],
      "metadata": {
        "id": "0kVgyV1wL34B"
      }
    },
    {
      "cell_type": "code",
      "source": [
        "p.gender = 'Male'"
      ],
      "metadata": {
        "id": "pIhttXjeKQap"
      },
      "execution_count": 52,
      "outputs": []
    },
    {
      "cell_type": "code",
      "source": [
        "p.gender"
      ],
      "metadata": {
        "colab": {
          "base_uri": "https://localhost:8080/",
          "height": 35
        },
        "id": "es-InIc8KQdk",
        "outputId": "83643489-8f7e-4f9c-9972-012ead6e7ea9"
      },
      "execution_count": 53,
      "outputs": [
        {
          "output_type": "execute_result",
          "data": {
            "text/plain": [
              "'Male'"
            ],
            "application/vnd.google.colaboratory.intrinsic+json": {
              "type": "string"
            }
          },
          "metadata": {},
          "execution_count": 53
        }
      ]
    },
    {
      "cell_type": "markdown",
      "source": [
        "## Reference Variables\n",
        "* Reference variables hold the objects\n",
        "* we can create objects without reference variable as well\n",
        "* An object can have multiple reference variables\n",
        "* Assigning a new reference variable to an existing object does not create a new object."
      ],
      "metadata": {
        "id": "RueDJo-hMI0F"
      }
    },
    {
      "cell_type": "code",
      "source": [
        "# Objext with a reference\n",
        "class person:\n",
        "  def __init__(self, name_input, country_input):\n",
        "    self.name = name_input\n",
        "    self.country = country_input\n",
        "\n",
        "p = person(name_input='Mausham', country_input='India') # P is just a variable name where we have the memory address of the object.\n",
        "q = p  # p and q both are variable names pointing to the same object in memory."
      ],
      "metadata": {
        "id": "Jzjya2nFKQgb"
      },
      "execution_count": 56,
      "outputs": []
    },
    {
      "cell_type": "code",
      "source": [
        "print(p.name)\n",
        "print(q.name)\n",
        "q.name = \"Sona\"\n",
        "print(p.name)\n",
        "print(q.name)"
      ],
      "metadata": {
        "colab": {
          "base_uri": "https://localhost:8080/"
        },
        "id": "fSYQkFawKQjg",
        "outputId": "9b2fcb27-2d09-484f-d3ac-5b78a92a01c3"
      },
      "execution_count": 58,
      "outputs": [
        {
          "output_type": "stream",
          "name": "stdout",
          "text": [
            "Mausham\n",
            "Mausham\n",
            "Sona\n",
            "Sona\n"
          ]
        }
      ]
    },
    {
      "cell_type": "code",
      "source": [
        "class person:\n",
        "  def __init__(self, name, gender):\n",
        "    self.name = name\n",
        "    self.gender = gender\n",
        "\n",
        "# Outside the class -> Function\n",
        "def greet(person): # we provide a object as an argument(input) inside an function\n",
        "  print('Hello', person.name)\n",
        "\n",
        "p = person('Mausham', 'Male')\n",
        "greet(p)\n",
        "# Here p is an object of person class and greet is a function\n",
        "# We put p inside greet and it will call the function\n",
        "# If you want in Python you can pass an object as an argument inside the function\n",
        "# An object could be returned by a function.\n",
        "# Let's see how\n",
        "\n",
        "class Person:\n",
        "    def __init__(self, name, gender):\n",
        "        self.name = name\n",
        "        self.gender = gender\n",
        "\n",
        "# Outside the class -> Function\n",
        "def greet(person): # we provide an object as an argument (input) inside a function\n",
        "    print('Hello', person.name)\n",
        "    p1 = Person('Sona', 'Female')\n",
        "    return p1\n",
        "\n",
        "p = Person('Mausham', 'Male')\n",
        "x = greet(p)\n",
        "print(x.name)\n",
        "print(x.gender)\n"
      ],
      "metadata": {
        "colab": {
          "base_uri": "https://localhost:8080/"
        },
        "id": "6VfRhfsdKQmY",
        "outputId": "1f98111b-7f93-4af6-8152-0e25e0f32086"
      },
      "execution_count": 62,
      "outputs": [
        {
          "output_type": "stream",
          "name": "stdout",
          "text": [
            "Hello Mausham\n",
            "Sona\n",
            "Female\n"
          ]
        }
      ]
    },
    {
      "cell_type": "code",
      "source": [
        "class Person:\n",
        "    def __init__(self, name, gender):\n",
        "        self.name = name\n",
        "        self.gender = gender\n",
        "\n",
        "# Outside the class -> Function\n",
        "def greet(person): # we provide an object as an argument (input) inside a function\n",
        "  print(id(person))\n",
        "  print('Hello', person.name)\n",
        "\n",
        "\n",
        "p = Person('Mausham', 'Male')\n",
        "print(id(p))\n",
        "x = greet(p)\n",
        "\n"
      ],
      "metadata": {
        "colab": {
          "base_uri": "https://localhost:8080/"
        },
        "id": "uFBcd32_KQpS",
        "outputId": "b48ff37c-464a-4c10-a7d6-e957a08937a3"
      },
      "execution_count": 63,
      "outputs": [
        {
          "output_type": "stream",
          "name": "stdout",
          "text": [
            "139095966142560\n",
            "139095966142560\n",
            "Hello Mausham\n"
          ]
        }
      ]
    },
    {
      "cell_type": "markdown",
      "source": [
        "whenever you pass an object to a function as input technically you don't the address of the object but you send a reference of the object."
      ],
      "metadata": {
        "id": "FD4Pup7tRgS-"
      }
    },
    {
      "cell_type": "markdown",
      "source": [
        "Objects in Python are mutable. If you want you can change this to immutable"
      ],
      "metadata": {
        "id": "8qYKADt4Sl70"
      }
    },
    {
      "cell_type": "markdown",
      "source": [
        "User define classes are mutable."
      ],
      "metadata": {
        "id": "WdPy47wASydJ"
      }
    },
    {
      "cell_type": "markdown",
      "source": [
        "# Encapsulation"
      ],
      "metadata": {
        "id": "2_xWL256TRre"
      }
    },
    {
      "cell_type": "markdown",
      "source": [],
      "metadata": {
        "id": "NAEVM7U0TVYo"
      }
    },
    {
      "cell_type": "code",
      "source": [
        "# Instance var -> Python tutor -> every object have a different values known as instance variable\n",
        "class person:\n",
        "  def __init__(self, name_input, country_input):\n",
        "    self.name = name_input\n",
        "    self.country = country_input\n",
        "\n",
        "person('Mausham', 'India')\n",
        "person('Sam', 'australia')"
      ],
      "metadata": {
        "id": "1Aah_LQaKQsD"
      },
      "execution_count": null,
      "outputs": []
    },
    {
      "cell_type": "markdown",
      "source": [
        "Why is nothing truly private in Python?\n",
        "bcz Python is a programming language made for adults.\n"
      ],
      "metadata": {
        "id": "wwF31F1SX1Lp"
      }
    },
    {
      "cell_type": "markdown",
      "source": [
        "# Collection of objects"
      ],
      "metadata": {
        "id": "v58u-DYHbNB0"
      }
    },
    {
      "cell_type": "code",
      "source": [
        "# List of objects\n",
        "class person:\n",
        "  def __init__(self, name, gender):\n",
        "    self.name = name\n",
        "    self.gender = gender\n",
        "\n",
        "p1 = person('Mausham', 'Male')\n",
        "p2 = person('Sam', 'Female')\n",
        "p3 = person('Sona', 'Female')\n",
        "\n",
        "l = [p1, p2, p3]\n",
        "for i in l:\n",
        "  print(i.name, i.gender)"
      ],
      "metadata": {
        "colab": {
          "base_uri": "https://localhost:8080/"
        },
        "id": "ScNYDIuHTQAh",
        "outputId": "7918f65c-7bc8-421b-977e-bda6074916af"
      },
      "execution_count": 66,
      "outputs": [
        {
          "output_type": "stream",
          "name": "stdout",
          "text": [
            "Mausham Male\n",
            "Sam Female\n",
            "Sona Female\n"
          ]
        }
      ]
    },
    {
      "cell_type": "code",
      "source": [
        "# dict of objects\n",
        "class person:\n",
        "  def __init__(self, name, gender):\n",
        "    self.name = name\n",
        "    self.gender = gender\n",
        "\n",
        "p1 = person('Mausham', 'Male')\n",
        "p2 = person('Sam', 'Female')\n",
        "p3 = person('Sona', 'Female')\n",
        "\n",
        "d = {'p1': p1, 'p2': p2, 'p3':p3}\n",
        "for i in d:\n",
        "  print(d[i].name, d[i].gender)"
      ],
      "metadata": {
        "colab": {
          "base_uri": "https://localhost:8080/"
        },
        "id": "VLln1548TQDe",
        "outputId": "4e0f153d-2178-4028-f14b-f5616ed8d003"
      },
      "execution_count": 67,
      "outputs": [
        {
          "output_type": "stream",
          "name": "stdout",
          "text": [
            "Mausham Male\n",
            "Sam Female\n",
            "Sona Female\n"
          ]
        }
      ]
    },
    {
      "cell_type": "markdown",
      "source": [
        "# Static Variables (vs Instance variables)"
      ],
      "metadata": {
        "id": "LblujiX2cjdd"
      }
    },
    {
      "cell_type": "code",
      "source": [
        "from re import A\n",
        "# Need for static variables\n",
        "class ATM:\n",
        "  counter = 1\n",
        "  # Constructor\n",
        "  def __init__(self): # It is a special function You don't need to call it. it is automatically called.\n",
        "    self.pin = \"\"\n",
        "    self.balance = 0\n",
        "    self.menu()\n",
        "    self.cid = ATM.counter\n",
        "    ATM.counter += 1\n",
        "\n",
        "  # utility functions (for small works)\n",
        "  @staticmethod\n",
        "  def get_counter():\n",
        "    return ATM.counter\n",
        "\n",
        "  def menu(self):\n",
        "    user_input = input(\"\"\"\n",
        "    Hii, How can I help you?\n",
        "    1. Enter 1 to create pin\n",
        "    2. Enter 2 to change pin\n",
        "    3. Enter 3 to check balance\n",
        "    4. Enter 4 to withdraw\n",
        "    5. Enter 5 to exit\n",
        "    \"\"\")\n",
        "    if user_input == \"1\":\n",
        "      self.create_pin()\n",
        "    elif user_input == \"2\":\n",
        "      self.change_pin()\n",
        "    elif user_input == \"3\":\n",
        "      self.check_balance()\n",
        "    elif user_input == \"4\":\n",
        "      self.withdraw()\n",
        "\n",
        "    else:\n",
        "      print(\"Thank you. Have a nice day!\")\n",
        "\n",
        "  def create_pin(self):\n",
        "    user_pin = input(\"Enter your pin:\")\n",
        "    self.pin = user_pin\n",
        "    user_balance = int(input(\"Enter your balance:\"))\n",
        "    self.balance = user_balance\n",
        "    print(\"Pin created successfully!\")\n",
        "    self.menu()\n",
        "\n",
        "  def change_pin(self):\n",
        "    old_pin = input(\"Enter old pin: \")\n",
        "    if old_pin == self.pin:\n",
        "      new_pin = input(\"Enter new pin: \")\n",
        "      self.pin = new_pin\n",
        "      print(\"Pin changed successfully\")\n",
        "\n",
        "\n",
        "    else:\n",
        "      print('Bhag jaa')\n",
        "\n",
        "      self.menu()\n",
        "    self.menu()\n",
        "\n",
        "  def check_balance(self):\n",
        "    user_pin = input(\"Enter your pin: \")\n",
        "    if user_pin == self.pin:\n",
        "      print(\"your balance is \", self.balance)\n",
        "\n",
        "    else:\n",
        "      print(\"Chal nikal \")\n",
        "\n",
        "\n",
        "  def withdraw(self):\n",
        "    user_pin = input(\"Enter your pin: \")\n",
        "    if user_pin == self.pin:\n",
        "      amount = int(input(\"Enter your amount\"))\n",
        "      if amount <= self.balance:\n",
        "        self.balance = self.balance - amount\n",
        "        print(\"withdraw successful balance is\", self.balance)\n",
        "      else:\n",
        "        print(\"Abe Garib\")\n",
        "      self.menu()\n",
        "\n",
        "    else:\n",
        "      print(\"sale chor\")"
      ],
      "metadata": {
        "id": "_CPqhxs8TQGH"
      },
      "execution_count": null,
      "outputs": []
    },
    {
      "cell_type": "code",
      "source": [
        "# Using an instance variable you can't implement a counter\n",
        "# value of an instance var for every input is different but in a static variable, every object will have the same value\n",
        "# static var class ka hota h, instance var object ka hota h\n",
        "# bank wala ex\n",
        "# name and balance a instance var\n",
        "# ifsc code of bank is a static var"
      ],
      "metadata": {
        "id": "d-V7KzTpTQI3"
      },
      "execution_count": null,
      "outputs": []
    },
    {
      "cell_type": "code",
      "source": [],
      "metadata": {
        "id": "dHqv65szTQyK"
      },
      "execution_count": null,
      "outputs": []
    },
    {
      "cell_type": "code",
      "source": [],
      "metadata": {
        "id": "TCS70H2MTQ04"
      },
      "execution_count": null,
      "outputs": []
    },
    {
      "cell_type": "code",
      "source": [],
      "metadata": {
        "id": "FM1RNIMlTQ3l"
      },
      "execution_count": null,
      "outputs": []
    },
    {
      "cell_type": "code",
      "source": [],
      "metadata": {
        "id": "JtOxrmrwTQ6W"
      },
      "execution_count": null,
      "outputs": []
    },
    {
      "cell_type": "code",
      "source": [],
      "metadata": {
        "id": "ub-ZutZoTQ9D"
      },
      "execution_count": null,
      "outputs": []
    },
    {
      "cell_type": "code",
      "source": [],
      "metadata": {
        "id": "NYs-yKZITQ_z"
      },
      "execution_count": null,
      "outputs": []
    },
    {
      "cell_type": "code",
      "source": [],
      "metadata": {
        "id": "BepVkorqTRCu"
      },
      "execution_count": null,
      "outputs": []
    },
    {
      "cell_type": "code",
      "source": [],
      "metadata": {
        "id": "_nElZ9hyKQvd"
      },
      "execution_count": null,
      "outputs": []
    },
    {
      "cell_type": "code",
      "source": [
        "from fractions import Fraction\n",
        "import math\n",
        "\n",
        "class RealNumbers:\n",
        "    def __init__(self):\n",
        "        self.rational_examples = [1, Fraction(1, 2), 0.75]\n",
        "        self.irrational_examples = [math.sqrt(2), math.pi]\n",
        "\n",
        "    def is_rational(self, number):\n",
        "        \"\"\"Check if the given number is rational.\"\"\"\n",
        "        try:\n",
        "            Fraction(number).limit_denominator()\n",
        "            return True\n",
        "        except (ValueError, ZeroDivisionError):\n",
        "            return False\n",
        "\n",
        "    def is_irrational(self, number):\n",
        "        \"\"\"Check if the given number is irrational.\"\"\"\n",
        "        return not self.is_rational(number)\n",
        "\n",
        "    def get_rational_examples(self):\n",
        "        \"\"\"Return examples of rational numbers.\"\"\"\n",
        "        return self.rational_examples\n",
        "\n",
        "    def get_irrational_examples(self):\n",
        "        \"\"\"Return examples of irrational numbers.\"\"\"\n",
        "        return self.irrational_examples\n",
        "\n",
        "    def display_examples(self):\n",
        "        \"\"\"Display examples of rational and irrational numbers.\"\"\"\n",
        "        print(\"Rational Numbers Examples:\")\n",
        "        for example in self.rational_examples:\n",
        "            print(f\"  {example}\")\n",
        "\n",
        "        print(\"\\nIrrational Numbers Examples:\")\n",
        "        for example in self.irrational_examples:\n",
        "            print(f\"  {example:.5f}\")\n",
        "\n",
        "# Example usage\n",
        "if __name__ == \"__main__\":\n",
        "    real_numbers = RealNumbers()\n",
        "\n",
        "    # Display examples\n",
        "    real_numbers.display_examples()\n",
        "\n",
        "    # Check if a number is rational\n",
        "    print(\"\\nIs 0.75 rational?\", real_numbers.is_rational(0.75))  # True\n",
        "    print(\"Is sqrt(2) irrational?\", real_numbers.is_irrational(math.sqrt(2)))  # True\n",
        "    print(\"Is pi rational?\", real_numbers.is_rational(math.pi))  # False\n"
      ],
      "metadata": {
        "colab": {
          "base_uri": "https://localhost:8080/"
        },
        "id": "OjJd0CoC5CAi",
        "outputId": "90189f75-2634-4915-aaca-bc21794cb23f"
      },
      "execution_count": 41,
      "outputs": [
        {
          "output_type": "stream",
          "name": "stdout",
          "text": [
            "Rational Numbers Examples:\n",
            "  1\n",
            "  1/2\n",
            "  0.75\n",
            "\n",
            "Irrational Numbers Examples:\n",
            "  1.41421\n",
            "  3.14159\n",
            "\n",
            "Is 0.75 rational? True\n",
            "Is sqrt(2) irrational? False\n",
            "Is pi rational? True\n"
          ]
        }
      ]
    },
    {
      "cell_type": "code",
      "source": [
        "import math\n",
        "\n",
        "class Class10Math:\n",
        "    def __init__(self):\n",
        "        pass\n",
        "\n",
        "    def prove_irrationality(self, number):\n",
        "        \"\"\"Prove the irrationality of a number.\"\"\"\n",
        "        if not isinstance(number, int) and not isinstance(number, float):\n",
        "            raise ValueError(\"Input must be a number.\")\n",
        "\n",
        "        # Assume the number is rational\n",
        "        assume_rational = False\n",
        "\n",
        "        try:\n",
        "            # Try to represent the number as a fraction\n",
        "            fraction = math.fraction(number)\n",
        "        except AttributeError:\n",
        "            assume_rational = True\n",
        "\n",
        "        # If the assumption was incorrect, the number is irrational\n",
        "        return assume_rational\n",
        "\n",
        "    def find_hcf_lcm(self, a, b):\n",
        "        \"\"\"Find the HCF and LCM of two numbers using prime factorization.\"\"\"\n",
        "        def prime_factors(n):\n",
        "            factors = []\n",
        "            divisor = 2\n",
        "            while divisor <= n:\n",
        "                if n % divisor == 0:\n",
        "                    factors.append(divisor)\n",
        "                    n //= divisor\n",
        "                else:\n",
        "                    divisor += 1\n",
        "            return factors\n",
        "\n",
        "        def hcf(a, b):\n",
        "            factors_a = prime_factors(a)\n",
        "            factors_b = prime_factors(b)\n",
        "            hcf = 1\n",
        "            for factor in factors_a:\n",
        "                if factor in factors_b:\n",
        "                    hcf *= factor\n",
        "                    factors_b.remove(factor)\n",
        "            return hcf\n",
        "\n",
        "        def lcm(a, b):\n",
        "            factors_a = prime_factors(a)\n",
        "            factors_b = prime_factors(b)\n",
        "            lcm = 1\n",
        "            for factor in factors_a:\n",
        "                lcm *= factor\n",
        "            for factor in factors_b:\n",
        "                lcm *= factor\n",
        "            return lcm\n",
        "\n",
        "        return hcf(a, b), lcm(a, b)\n",
        "\n",
        "    def decimal_expansion(self, p, q):\n",
        "        \"\"\"Perform decimal expansion for a rational number p/q.\"\"\"\n",
        "        return p / q\n",
        "\n",
        "    def is_terminating_decimal(self, p, q):\n",
        "        \"\"\"Check if the rational number p/q has a terminating decimal expansion.\"\"\"\n",
        "        while q % 2 == 0:\n",
        "            q //= 2\n",
        "        while q % 5 == 0:\n",
        "            q //= 5\n",
        "        return q == 1\n",
        "\n",
        "    def is_repeating_decimal(self, p, q):\n",
        "        \"\"\"Check if the rational number p/q has a repeating decimal expansion.\"\"\"\n",
        "        return not self.is_terminating_decimal(p, q)\n",
        "\n",
        "    def apply_lemma(self, a, b):\n",
        "        \"\"\"Apply Euclid's Division Lemma to find quotient and remainder.\"\"\"\n",
        "        q = a // b  # Floor division\n",
        "        r = a % b\n",
        "        return q, r\n",
        "\n",
        "    def verify_lemma(self, a, b, q, r):\n",
        "        \"\"\"Verify Euclid's Division Lemma for given numbers.\"\"\"\n",
        "        return a == b * q + r and 0 <= r < b\n",
        "\n",
        "    def prime_factors(self, n):\n",
        "        \"\"\"Find prime factors of a number.\"\"\"\n",
        "        factors = []\n",
        "        divisor = 2\n",
        "        while divisor <= n:\n",
        "            if n % divisor == 0:\n",
        "                factors.append(divisor)\n",
        "                n //= divisor\n",
        "            else:\n",
        "                divisor += 1\n",
        "        return factors\n",
        "\n",
        "    def prime_factorization(self, n):\n",
        "        \"\"\"Find the prime factorization of a number.\"\"\"\n",
        "        prime_factors = self.prime_factors(n)\n",
        "        factorization = {}\n",
        "        for factor in prime_factors:\n",
        "            if factor in factorization:\n",
        "                factorization[factor] += 1\n",
        "            else:\n",
        "                factorization[factor] = 1\n",
        "        return factorization\n",
        "\n",
        "    def is_prime(self, n):\n",
        "        \"\"\"Check if a number is prime.\"\"\"\n",
        "        if n < 2:\n",
        "            return False\n",
        "        for i in range(2, int(n**0.5) + 1):\n",
        "            if n % i == 0:\n",
        "                return False\n",
        "        return True\n",
        "\n",
        "# Example usage\n",
        "if __name__ == \"__main__\":\n",
        "    math_helper = Class10Math()\n",
        "\n",
        "    # Example values\n",
        "    irrational_number = math.sqrt(2)\n",
        "    hcf_lcm_numbers = 12, 18\n",
        "    rational_number = 7, 8\n",
        "\n",
        "    # Prove irrationality\n",
        "    print(f\"{irrational_number} is irrational: {math_helper.prove_irrationality(irrational_number)}\")\n",
        "\n",
        "    # Find HCF and LCM\n",
        "    hcf, lcm = math_helper.find_hcf_lcm(*hcf_lcm_numbers)\n",
        "    print(f\"HCF of {hcf_lcm_numbers}: {hcf}, LCM of {hcf_lcm_numbers}: {lcm}\")\n",
        "\n",
        "    # Decimal expansion\n",
        "    decimal = math_helper.decimal_expansion(*rational_number)\n",
        "    print(f\"Decimal expansion of {rational_number[0]}/{rational_number[1]}: {decimal}\")\n"
      ],
      "metadata": {
        "colab": {
          "base_uri": "https://localhost:8080/"
        },
        "id": "MS-IPGY3FL0W",
        "outputId": "25428bd3-9e5f-4ef0-e9ad-880314863082"
      },
      "execution_count": 42,
      "outputs": [
        {
          "output_type": "stream",
          "name": "stdout",
          "text": [
            "1.4142135623730951 is irrational: True\n",
            "HCF of (12, 18): 6, LCM of (12, 18): 216\n",
            "Decimal expansion of 7/8: 0.875\n"
          ]
        }
      ]
    },
    {
      "cell_type": "code",
      "source": [
        "import math\n",
        "\n",
        "class Class10Math:\n",
        "    def __init__(self):\n",
        "        pass\n",
        "\n",
        "    def prove_irrationality(self, number):\n",
        "        \"\"\"Prove the irrationality of a number.\"\"\"\n",
        "        if not isinstance(number, int) and not isinstance(number, float):\n",
        "            raise ValueError(\"Input must be a number.\")\n",
        "\n",
        "        # Assume the number is rational\n",
        "        assume_rational = False\n",
        "\n",
        "        try:\n",
        "            # Try to represent the number as a fraction\n",
        "            fraction = math.fraction(number)\n",
        "        except AttributeError:\n",
        "            assume_rational = True\n",
        "\n",
        "        # If the assumption was incorrect, the number is irrational\n",
        "        return assume_rational\n",
        "\n",
        "    def find_hcf_lcm(self, a, b):\n",
        "        \"\"\"Find the HCF and LCM of two numbers using prime factorization.\"\"\"\n",
        "        def prime_factors(n):\n",
        "            factors = []\n",
        "            divisor = 2\n",
        "            while divisor <= n:\n",
        "                if n % divisor == 0:\n",
        "                    factors.append(divisor)\n",
        "                    n //= divisor\n",
        "                else:\n",
        "                    divisor += 1\n",
        "            return factors\n",
        "\n",
        "        def hcf(a, b):\n",
        "            factors_a = prime_factors(a)\n",
        "            factors_b = prime_factors(b)\n",
        "            hcf = 1\n",
        "            for factor in factors_a:\n",
        "                if factor in factors_b:\n",
        "                    hcf *= factor\n",
        "                    factors_b.remove(factor)\n",
        "            return hcf\n",
        "\n",
        "        def lcm(a, b):\n",
        "            factors_a = prime_factors(a)\n",
        "            factors_b = prime_factors(b)\n",
        "            lcm = 1\n",
        "            for factor in factors_a:\n",
        "                lcm *= factor\n",
        "            for factor in factors_b:\n",
        "                lcm *= factor\n",
        "            return lcm\n",
        "\n",
        "        return hcf(a, b), lcm(a, b)\n",
        "\n",
        "    def decimal_expansion(self, p, q):\n",
        "        \"\"\"Perform decimal expansion for a rational number p/q.\"\"\"\n",
        "        return p / q\n",
        "\n",
        "    def is_terminating_decimal(self, p, q):\n",
        "        \"\"\"Check if the rational number p/q has a terminating decimal expansion.\"\"\"\n",
        "        while q % 2 == 0:\n",
        "            q //= 2\n",
        "        while q % 5 == 0:\n",
        "            q //= 5\n",
        "        return q == 1\n",
        "\n",
        "    def is_repeating_decimal(self, p, q):\n",
        "        \"\"\"Check if the rational number p/q has a repeating decimal expansion.\"\"\"\n",
        "        return not self.is_terminating_decimal(p, q)\n",
        "\n",
        "    def apply_lemma(self, a, b):\n",
        "        \"\"\"Apply Euclid's Division Lemma to find quotient and remainder.\"\"\"\n",
        "        q = a // b  # Floor division\n",
        "        r = a % b\n",
        "        return q, r\n",
        "\n",
        "    def verify_lemma(self, a, b, q, r):\n",
        "        \"\"\"Verify Euclid's Division Lemma for given numbers.\"\"\"\n",
        "        return a == b * q + r and 0 <= r < b\n",
        "\n",
        "    def prime_factors(self, n):\n",
        "        \"\"\"Find prime factors of a number.\"\"\"\n",
        "        factors = []\n",
        "        divisor = 2\n",
        "        while divisor <= n:\n",
        "            if n % divisor == 0:\n",
        "                factors.append(divisor)\n",
        "                n //= divisor\n",
        "            else:\n",
        "                divisor += 1\n",
        "        return factors\n",
        "\n",
        "    def prime_factorization(self, n):\n",
        "        \"\"\"Find the prime factorization of a number.\"\"\"\n",
        "        prime_factors = self.prime_factors(n)\n",
        "        factorization = {}\n",
        "        for factor in prime_factors:\n",
        "            if factor in factorization:\n",
        "                factorization[factor] += 1\n",
        "            else:\n",
        "                factorization[factor] = 1\n",
        "        return factorization\n",
        "\n",
        "    def is_prime(self, n):\n",
        "        \"\"\"Check if a number is prime.\"\"\"\n",
        "        if n < 2:\n",
        "            return False\n",
        "        for i in range(2, int(n**0.5) + 1):\n",
        "            if n % i == 0:\n",
        "                return False\n",
        "        return True\n",
        "\n",
        "    def ask_question(self):\n",
        "        \"\"\"Ask the user for a question and provide an answer.\"\"\"\n",
        "        question = input(\"What is your question? \")\n",
        "        if \"irrational\" in question:\n",
        "            number = float(input(\"Enter the number: \"))\n",
        "            result = self.prove_irrationality(number)\n",
        "            print(f\"The number {number} is irrational: {result}\")\n",
        "        elif \"HCF\" in question:\n",
        "            a = int(input(\"Enter the first number: \"))\n",
        "            b = int(input(\"Enter the second number: \"))\n",
        "            hcf, lcm = self.find_hcf_lcm(a, b)\n",
        "            print(f\"The HCF of {a} and {b} is: {hcf}\")\n",
        "            print(f\"The LCM of {a} and {b} is: {lcm}\")\n",
        "        elif \"decimal\" in question:\n",
        "            p = int(input(\"Enter the numerator: \"))\n",
        "            q = int(input(\"Enter the denominator: \"))\n",
        "            result = self.decimal_expansion(p, q)\n",
        "            print(f\"The decimal expansion of {p}/{q} is: {result}\")\n",
        "        else:\n",
        "            print(\"I'm sorry, I don't understand the question.\")\n",
        "\n",
        "# Example usage\n",
        "if __name__ == \"__main__\":\n",
        "    math_helper = Class10Math()\n",
        "\n",
        "    # Ask a question\n",
        "    math_helper.ask_question()\n"
      ],
      "metadata": {
        "colab": {
          "base_uri": "https://localhost:8080/"
        },
        "id": "jQBCdjOrF2vT",
        "outputId": "534fc9c7-1a94-43eb-8825-a6022f9dca98"
      },
      "execution_count": 43,
      "outputs": [
        {
          "output_type": "stream",
          "name": "stdout",
          "text": [
            "What is your question? 2 \n",
            "I'm sorry, I don't understand the question.\n"
          ]
        }
      ]
    }
  ]
}