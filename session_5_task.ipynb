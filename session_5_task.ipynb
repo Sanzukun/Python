{
  "nbformat": 4,
  "nbformat_minor": 0,
  "metadata": {
    "colab": {
      "provenance": [],
      "include_colab_link": true
    },
    "kernelspec": {
      "name": "python3",
      "display_name": "Python 3"
    },
    "language_info": {
      "name": "python"
    }
  },
  "cells": [
    {
      "cell_type": "markdown",
      "metadata": {
        "id": "view-in-github",
        "colab_type": "text"
      },
      "source": [
        "<a href=\"https://colab.research.google.com/github/maushamkumar/Python/blob/main/session_5_task.ipynb\" target=\"_parent\"><img src=\"https://colab.research.google.com/assets/colab-badge.svg\" alt=\"Open In Colab\"/></a>"
      ]
    },
    {
      "cell_type": "markdown",
      "source": [
        "# Tuple\n"
      ],
      "metadata": {
        "id": "limD5IAfl-tz"
      }
    },
    {
      "cell_type": "markdown",
      "source": [
        "###`Q1:` Join Tuples if similar initial element\n",
        "While working with Python tuples, we can have a problem in which we need to perform concatenation of records from the similarity of initial element. This problem can have applications in data domains such as Data Science.\n",
        "\n",
        "For eg.\n",
        "```\n",
        "Input  : test_list = [(5, 6), (5, 7), (5, 8), (6, 10), (7, 13)]\n",
        "Output : [(5, 6, 7, 8), (6, 10), (7, 13)]\n",
        "```"
      ],
      "metadata": {
        "id": "nSTn3CjbmB7q"
      }
    },
    {
      "cell_type": "code",
      "source": [
        "# write your code here\n",
        "test_list = [(5, 6), (5, 7), (5, 8), (6, 10), (7, 13)]\n",
        "\n",
        "unique = []\n",
        "for i in test_list:\n",
        "  unique.append(i[0])\n",
        "\n",
        "print(unique)\n",
        "unique = set(unique)\n",
        "\n",
        "result = []\n",
        "for i in unique:\n",
        "  result.append([i])\n",
        "  for j in test_list:\n",
        "    if j[0] == i:\n",
        "      result[-1].append(j[1])\n",
        "print(result)\n",
        "print(list(map(tuple, result)))"
      ],
      "metadata": {
        "id": "Jm3uYg-nRb9q",
        "outputId": "5aefe49c-62f1-4d38-a8f5-68ad43c3ec68",
        "colab": {
          "base_uri": "https://localhost:8080/"
        }
      },
      "execution_count": 25,
      "outputs": [
        {
          "output_type": "stream",
          "name": "stdout",
          "text": [
            "[5, 5, 5, 6, 7]\n",
            "[[5, 6, 7, 8], [6, 10], [7, 13]]\n",
            "[(5, 6, 7, 8), (6, 10), (7, 13)]\n"
          ]
        }
      ]
    },
    {
      "cell_type": "code",
      "source": [
        "# Input list\n",
        "test_list = [(5, 6), (5, 7), (5, 8), (6, 10), (7, 13)]\n",
        "\n",
        "# Initialize result list\n",
        "result = []\n",
        "\n",
        "# Iterate over each tuple in the input list\n",
        "for t in test_list:\n",
        "    found = False\n",
        "    for i in range(len(result)):\n",
        "        # If the first element matches, add the second element to the tuple\n",
        "        if result[i][0] == t[0]:\n",
        "            result[i] = result[i] + (t[1],)\n",
        "            found = True\n",
        "            break\n",
        "        print(result[i][0])\n",
        "    # If the first element is not found, add a new tuple to the result list\n",
        "    if not found:\n",
        "        result.append(t)\n",
        "\n",
        "# Print the result\n",
        "print(result)\n"
      ],
      "metadata": {
        "id": "hwVeEvH9rJzU",
        "outputId": "9636c934-fb86-4b27-c109-a68f6a90a739",
        "colab": {
          "base_uri": "https://localhost:8080/"
        }
      },
      "execution_count": 22,
      "outputs": [
        {
          "output_type": "stream",
          "name": "stdout",
          "text": [
            "5\n",
            "5\n",
            "6\n",
            "[(5, 6, 7, 8), (6, 10), (7, 13)]\n"
          ]
        }
      ]
    },
    {
      "cell_type": "markdown",
      "source": [
        "###`Q2:` Multiply Adjacent elements (both side) and take sum of right and lest side multiplication result.\n",
        "\n",
        "\n",
        "For eg.\n",
        "```\n",
        "The original tuple : (1, 5, 7, 8, 10)\n",
        "Resultant tuple after multiplication :\n",
        "\n",
        "(1*5, 1*5+5*7, 7*5 + 7*8, 8*7 + 8*10, 10*8) -> (5, 40, 91, 136, 80)\n",
        "\n",
        "output-(5, 40, 91, 136, 80)\n",
        "```"
      ],
      "metadata": {
        "id": "ujQpZOFFmeha"
      }
    },
    {
      "cell_type": "code",
      "source": [
        "# write your code here\n",
        "t = (1, 5, 7, 8, 10)\n",
        "\n",
        "result = []\n",
        "\n",
        "for i in range(len(t)):\n",
        "  left_product = 0\n",
        "  right_product = 0\n",
        "\n",
        "  if i > 0:\n",
        "    left_product = t[i] * t[i-1]\n",
        "\n",
        "  if i <  len(t) - 1:\n",
        "    right_product = t[i] * t[i + 1]\n",
        "\n",
        "  sum = left_product + right_product\n",
        "\n",
        "  result.append(sum)\n",
        "\n",
        "print(tuple(result))\n",
        "\n"
      ],
      "metadata": {
        "id": "N9lveEsArNVc",
        "outputId": "922e0391-081e-4c69-a54c-c54207c15804",
        "colab": {
          "base_uri": "https://localhost:8080/"
        }
      },
      "execution_count": 24,
      "outputs": [
        {
          "output_type": "stream",
          "name": "stdout",
          "text": [
            "(5, 40, 91, 136, 80)\n"
          ]
        }
      ]
    },
    {
      "cell_type": "code",
      "source": [
        "t = (1, 5, 7, 8, 10)\n",
        "\n",
        "result = []\n",
        "\n",
        "result.append(t[0]*t[0])\n",
        "for i in range(1, len(t)-1):\n",
        "  result.append(t[i]*t[i-1] + t[i]*t[i+1])\n",
        "\n",
        "result.append(t[-1]*t[-2])\n",
        "\n",
        "print(tuple(result))"
      ],
      "metadata": {
        "id": "5phv95l548z7",
        "outputId": "42afa669-4943-4a88-9b66-8868af00e38a",
        "colab": {
          "base_uri": "https://localhost:8080/"
        }
      },
      "execution_count": 8,
      "outputs": [
        {
          "output_type": "stream",
          "name": "stdout",
          "text": [
            "(1, 40, 91, 136, 80)\n"
          ]
        }
      ]
    },
    {
      "cell_type": "markdown",
      "source": [
        "###`Q3`: Check is tuples are same or not?\n",
        "Two tuples would be same if both tuples have same element at same index\n",
        "```\n",
        "t1 = (1,2,3,0)\n",
        "t2 = (0,1,2,3)\n",
        "\n",
        "t1 and t2 are not same\n",
        "```"
      ],
      "metadata": {
        "id": "x0psnUiu2ZVp"
      }
    },
    {
      "cell_type": "code",
      "source": [
        "# write your code here\n",
        "t1 = (1,2,3,0)\n",
        "t = (1,2,3,0)\n",
        "t2 = (0,1,2,3)\n",
        "\n",
        "if t1 == t2:\n",
        "  print(\"same\")\n",
        "else:\n",
        "  print(\"not same\")\n",
        "\n",
        "for i, j in zip(t1, t2):\n",
        "  if i == j:\n",
        "    continue\n",
        "  else:\n",
        "    print('not same')\n",
        "    break\n",
        "else:\n",
        "  print(\"same\")"
      ],
      "metadata": {
        "id": "JMVw9EhSrPEc",
        "outputId": "8ddf75da-485a-4842-c735-71fc4a29a23b",
        "colab": {
          "base_uri": "https://localhost:8080/"
        }
      },
      "execution_count": 9,
      "outputs": [
        {
          "output_type": "stream",
          "name": "stdout",
          "text": [
            "not same\n",
            "not same\n"
          ]
        }
      ]
    },
    {
      "cell_type": "markdown",
      "source": [
        "###`Q4`: Count no of tuples, list and set from a list\n",
        "```\n",
        "list1 = [{'hi', 'bye'},{'Geeks', 'forGeeks'},('a', 'b'),['hi', 'bye'],['a', 'b']]\n",
        "\n",
        "```\n",
        "`Output:`\n",
        "\n",
        "```\n",
        "List-2\n",
        "Set-2\n",
        "Tuples-1\n",
        "```"
      ],
      "metadata": {
        "id": "aZ4rObHK4fCN"
      }
    },
    {
      "cell_type": "code",
      "source": [
        "<class 'set'>\n",
        "<class 'tuple'>\n",
        "<class 'list'>"
      ],
      "metadata": {
        "id": "G1gZuGJR0-1-"
      },
      "execution_count": null,
      "outputs": []
    },
    {
      "cell_type": "code",
      "source": [
        "# # write your code here\n",
        "list1 = [{'hi', 'bye'},{'Geeks', 'forGeeks'},('a', 'b'),['hi', 'bye'],['a', 'b']]\n",
        "l = 0\n",
        "s = 0\n",
        "t = 0\n",
        "for i in range(len(list1)):\n",
        "  if (type(list1[i])) == set:\n",
        "    s += 1\n",
        "  elif (type(list1[i])) == tuple:\n",
        "    t += 1\n",
        "  elif (type(list1[i])) == list:\n",
        "    l += 1\n",
        "\n",
        "print(\"List-\", l)\n",
        "print(\"Set-\", s)\n",
        "print(\"Tuples-\", t)\n",
        "\n",
        "\n"
      ],
      "metadata": {
        "id": "g_Bnuczk69tG",
        "outputId": "0fc95815-60fb-43ac-d7e0-40f208e7d16c",
        "colab": {
          "base_uri": "https://localhost:8080/"
        }
      },
      "execution_count": 5,
      "outputs": [
        {
          "output_type": "stream",
          "name": "stdout",
          "text": [
            "List- 2\n",
            "Set- 2\n",
            "Tuples- 1\n"
          ]
        }
      ]
    },
    {
      "cell_type": "markdown",
      "source": [
        "###`Q5`: Shortlist Students for a Job role\n",
        "Ask user to input students record and store in tuples for each record. Then Ask user to input three things he wants in the candidate- Primary Skill, Higher Education, Year of Graduation.\n",
        "\n",
        "Show every students record in form of tuples if matches all required criteria.\n",
        "\n",
        "It is assumed that there will be only one primry skill.\n",
        "\n",
        "If no such candidate found, print `No such candidate`\n",
        "\n",
        "`Input:`\n",
        "```\n",
        "Enter No of records- 2\n",
        "Enter Details of student-1\n",
        "Enter Student name- Manohar\n",
        "Enter Higher Education- B.Tech\n",
        "Enter Primary Skill- Python\n",
        "Enter Year of Graduation- 2022\n",
        "Enter Details of student-2\n",
        "Enter Student name- Ponian\n",
        "Enter Higher Education- B.Sc.\n",
        "Enter Primary Skill- C++\n",
        "Enter Year of Graduation- 2020\n",
        "\n",
        "Enter Job Role Requirement\n",
        "Enter Skill- Python\n",
        "Enter Higher Education- B.Tech\n",
        "Enter Year of Graduation- 2022\n",
        "```\n",
        "\n",
        "`Output`\n",
        "```\n",
        "('Manohar', 'B.tech', 'Python', '2022')\n",
        "```\n"
      ],
      "metadata": {
        "id": "jInFNuit8hf1"
      }
    },
    {
      "cell_type": "code",
      "source": [
        "# write your code here\n",
        "student = []\n",
        "\n",
        "records = input(\"Enter no of records- \")\n",
        "for i in range((records)):\n",
        "  details = input(\"Enter Details of student- \", i+1)\n",
        "  name = input(\"Enter Student name- \")\n",
        "  higher_education = input(\"Enter Higher Education- \")\n",
        "  primary_skill = input(\"Enter Primary Skill- \")\n",
        "  year_of_graduation = input(\"Enter Year of Graduation- \")\n",
        "  student.append((name, higher_education, primary_skill, year_of_graduation))\n",
        "  print(student)\n",
        "\n",
        "\n",
        "job_role = input(\"Enter Job Role Requirement\")\n",
        "skill = input(\"Enter Skill- \")\n",
        "higher_education = input(\"Enter Higher Education- \")\n",
        "year_of_graduation = input(\"Enter Year of Graduation- \")\n",
        "\n",
        "for i in student:\n",
        "  if i[2] == skill and i[1] == higher_education and i[3] == year_of_graduation:\n",
        "    print(i)\n",
        "    break\n",
        "else:\n",
        "  print(\"No such candidate\")\n",
        "\n",
        "print(name, higher_education, primary_skill, year_of_graduation)"
      ],
      "metadata": {
        "id": "erh9QZaerSHk",
        "outputId": "f09c43a4-11bd-4571-c7f2-ae6c8d18fdc5",
        "colab": {
          "base_uri": "https://localhost:8080/"
        }
      },
      "execution_count": 6,
      "outputs": [
        {
          "output_type": "stream",
          "name": "stdout",
          "text": [
            "Enter Student name- Manohar\n",
            "Enter Higher Education- B.tech\n",
            "Enter Primary Skill- Python\n",
            "Enter Year of Graduation- 2022\n",
            "Manohar B.tech Python 2022\n"
          ]
        }
      ]
    },
    {
      "cell_type": "markdown",
      "source": [
        "# Set"
      ],
      "metadata": {
        "id": "l4hLvwD2BeIN"
      }
    },
    {
      "cell_type": "markdown",
      "source": [
        "###`Q1:` Write a program to find set of common elements in three lists using sets.\n",
        "```\n",
        "Input : ar1 = [1, 5, 10, 20, 40, 80]\n",
        "        ar2 = [6, 7, 20, 80, 100]\n",
        "        ar3 = [3, 4, 15, 20, 30, 70, 80, 120]\n",
        "\n",
        "Output : [80, 20]\n",
        "```"
      ],
      "metadata": {
        "id": "zCX0Sk2IBfu8"
      }
    },
    {
      "cell_type": "code",
      "source": [
        "# write your code here\n",
        "ar1 = [1, 5, 10, 20, 40, 80]\n",
        "ar2 = [6, 7, 20, 80, 100]\n",
        "ar3 = [3, 4, 15, 20, 30, 70, 80, 120]\n",
        "\n",
        "s1 = set(ar1)\n",
        "s2 = set(ar2)\n",
        "s3 = set(ar3)\n",
        "\n",
        "list(s1.intersection(s2).intersection(s3))\n",
        "list((s1&s2)&s3)"
      ],
      "metadata": {
        "id": "rqATYpBUrUQU",
        "outputId": "b1940ba7-bc72-4352-9144-8a49f1fe9afb",
        "colab": {
          "base_uri": "https://localhost:8080/"
        }
      },
      "execution_count": 3,
      "outputs": [
        {
          "output_type": "execute_result",
          "data": {
            "text/plain": [
              "[80, 20]"
            ]
          },
          "metadata": {},
          "execution_count": 3
        }
      ]
    },
    {
      "cell_type": "markdown",
      "source": [
        "###`Q2:` Write a program to count unique number of vowels using sets in a given string. Lowercase and upercase vowels will be taken as different.\n",
        "\n",
        "`Input:`\n",
        "```\n",
        "Str1 = \"hands-on data science mentorship progrAm with live classes at affordable fee only on CampusX\"\n",
        "```\n",
        "`Output:`\n",
        "```\n",
        "No of unique vowels-6\n",
        "```"
      ],
      "metadata": {
        "id": "0gOVS-0yCYrK"
      }
    },
    {
      "cell_type": "code",
      "source": [
        "# write your code here\n",
        "Str1 = \"hands-on data science mentorship progrAm with live classes at affordable fee only on CampusX\"\n",
        "\n",
        "vowels = set(\"aeiouAEIOU\")\n",
        "m = set(Str1)\n",
        "count = 0\n",
        "for i in m:\n",
        "  if i in vowels:\n",
        "    count += 1\n",
        "\n",
        "print(\"No of vowels-\", count)\n",
        "\n",
        "# Another way of doing it\n",
        "\n",
        "vowels = set(\"aeiouAEIOU\")\n",
        "s = set(Str1)\n",
        "\n",
        "print(\"No of unique vowels-\", len(vowels & s))\n"
      ],
      "metadata": {
        "id": "0vAlEAOzDihm",
        "outputId": "16ab8eb2-59e5-41c2-cac9-2ec271dfe200",
        "colab": {
          "base_uri": "https://localhost:8080/"
        }
      },
      "execution_count": 12,
      "outputs": [
        {
          "output_type": "stream",
          "name": "stdout",
          "text": [
            "No of unique vowels- 10\n",
            "No of vowels- 6\n",
            "No of unique vowels- 6\n"
          ]
        }
      ]
    },
    {
      "cell_type": "markdown",
      "source": [
        "### `Q3:` Write a program to Check if a given string is binary string of or not.\n",
        "\n",
        "A string is said to be binary if it's consists of only two unique characters.\n",
        "\n",
        "Take string input from user.\n",
        "\n",
        "```\n",
        "Input: str = \"01010101010\"\n",
        "Output: Yes\n",
        "\n",
        "Input: str = \"1222211\"\n",
        "Output: Yes\n",
        "\n",
        "Input: str = \"Campusx\"\n",
        "Output: No\n",
        "```"
      ],
      "metadata": {
        "id": "fqLZxiarEne5"
      }
    },
    {
      "cell_type": "code",
      "source": [
        "# write your code here\n",
        "text = input(\"Enter your text: \")\n",
        "if len(set(text)) == 2:\n",
        "  print(\"Yes\")\n",
        "else:\n",
        "  print(\"No\")"
      ],
      "metadata": {
        "id": "5M5v8LoYrXkE",
        "outputId": "2318cac9-380c-433b-a1ef-1d013c5b1403",
        "colab": {
          "base_uri": "https://localhost:8080/"
        }
      },
      "execution_count": 14,
      "outputs": [
        {
          "output_type": "stream",
          "name": "stdout",
          "text": [
            "Enter your text: 3453535\n",
            "No\n"
          ]
        }
      ]
    },
    {
      "cell_type": "markdown",
      "source": [
        "### `Q4`: find union of n arrays.\n",
        "\n",
        "**Example 1:**\n",
        "\n",
        "Input:\n",
        "```bash\n",
        "[[1, 2, 2, 4, 3, 6],\n",
        " [5, 1, 3, 4],\n",
        " [9, 5, 7, 1],\n",
        " [2, 4, 1, 3]]\n",
        "```\n",
        "\n",
        "Output:\n",
        "\n",
        "```bash\n",
        "[1, 2, 3, 4, 5, 6, 7, 9]\n",
        "```"
      ],
      "metadata": {
        "id": "xXS8wYH1mDqx"
      }
    },
    {
      "cell_type": "code",
      "source": [
        "# write your code here\n",
        "number = [[1, 2, 2, 4, 3, 6],\n",
        " [5, 1, 3, 4],\n",
        " [9, 5, 7, 1],\n",
        " [2, 4, 1, 3]]\n",
        "\n",
        "\n",
        "s = set()\n",
        "for i in number:\n",
        "  s |= set(i)\n",
        "print(list(s))\n",
        "\n",
        "v = set()\n",
        "for i in number:\n",
        "  v.update(i)\n",
        "\n",
        "print(list(v))\n"
      ],
      "metadata": {
        "id": "FVNyK6MbncU8",
        "outputId": "cf03256f-dcd0-4016-92ca-81e7d85cc178",
        "colab": {
          "base_uri": "https://localhost:8080/"
        }
      },
      "execution_count": 18,
      "outputs": [
        {
          "output_type": "stream",
          "name": "stdout",
          "text": [
            "[1, 2, 3, 4, 5, 6, 7, 9]\n",
            "[1, 2, 3, 4, 5, 6, 7, 9]\n"
          ]
        }
      ]
    },
    {
      "cell_type": "markdown",
      "source": [
        "### `Q5`: Intersection of two lists. Intersection of two list means we need to take all those elements which are common to both of the initial lists and store them into another list. Only use using **list-comprehension**.\n",
        "\n",
        "**Example 1:**\n",
        "\n",
        "Input:\n",
        "```bash\n",
        "lst1 = {15, 9, 10, 56, 23, 78, 5, 4, 9}\n",
        "lst2 = {9, 4, 5, 36, 47, 26, 10, 45, 87}\n",
        "```\n",
        "\n",
        "Output:\n",
        "```bash\n",
        "[9, 10, 4, 5]\n",
        "```\n",
        "\n",
        "**Example 2:**\n",
        "\n",
        "Input:\n",
        "```bash\n",
        "lst1 = {4, 9, 1, 17, 11, 26, 28, 54, 69}\n",
        "lst2 = {9, 9, 74, 21, 45, 11, 63, 28, 26}\n",
        "```\n",
        "\n",
        "Output:\n",
        "```bash\n",
        "[9, 11, 26, 28]\n",
        "```"
      ],
      "metadata": {
        "id": "T_Re21BdndOz"
      }
    },
    {
      "cell_type": "code",
      "source": [
        "# write your code here\n",
        "lst1 = {15, 9, 10, 56, 23, 78, 5, 4, 9}\n",
        "lst2 = {9, 4, 5, 36, 47, 26, 10, 45, 87}\n",
        "\n",
        "[i for i in lst1 if i in lst2]\n",
        "\n",
        "list(set(lst1) & set(lst2))"
      ],
      "metadata": {
        "id": "nWnL25ftoLVT",
        "outputId": "46ef75b2-1645-4ff8-d8cd-7bd25c913ea5",
        "colab": {
          "base_uri": "https://localhost:8080/"
        }
      },
      "execution_count": 21,
      "outputs": [
        {
          "output_type": "execute_result",
          "data": {
            "text/plain": [
              "[4, 5, 9, 10]"
            ]
          },
          "metadata": {},
          "execution_count": 21
        }
      ]
    },
    {
      "cell_type": "markdown",
      "source": [
        "# Dictionary"
      ],
      "metadata": {
        "id": "tD2RSYn1a8oA"
      }
    },
    {
      "cell_type": "markdown",
      "source": [
        "### `Q1`: Key with maximum unique values\n",
        "\n",
        "Given a dictionary with values list, extract key whose value has most unique values.\n",
        "\n",
        "**Example 1:**\n",
        "\n",
        "Input:\n",
        "\n",
        "```bash\n",
        "test_dict = {\"CampusX\" : [5, 7, 9, 4, 0], \"is\" : [6, 7, 4, 3, 3], \"Best\" : [9, 9, 6, 5, 5]}\n",
        "```\n",
        "\n",
        "Output:\n",
        "```bash\n",
        "CampusX\n",
        "```\n",
        "\n",
        "**Example 2:**\n",
        "\n",
        "Input:\n",
        "```bash\n",
        "test_dict = {\"CampusX\" : [5, 7, 7, 7, 7], \"is\" : [6, 7, 7, 7], \"Best\" : [9, 9, 6, 5, 5]}\n",
        "```\n",
        "\n",
        "Output:\n",
        "```bash\n",
        "Best\n",
        "```"
      ],
      "metadata": {
        "id": "7tUjHhcPbQzQ"
      }
    },
    {
      "cell_type": "code",
      "source": [
        "# write your code here\n",
        "test_dict = {\"CampusX\" : [5, 7, 9, 4, 0], \"is\" : [6, 7, 4, 3, 3], \"Best\" : [9, 9, 6, 5, 5]}\n",
        "\n",
        "max_val = 0\n",
        "max_key = \"\"\n",
        "for i in test_dict:\n",
        "  if max_val < len((set(test_dict[i]))):\n",
        "    max_val = len((set(i)))\n",
        "    max_key = i\n",
        "\n",
        "print(max_key)"
      ],
      "metadata": {
        "id": "N8KHX863lNxL",
        "outputId": "0beb26b9-7d79-4d8c-cbf2-fb24c68dc091",
        "colab": {
          "base_uri": "https://localhost:8080/"
        }
      },
      "execution_count": 30,
      "outputs": [
        {
          "output_type": "stream",
          "name": "stdout",
          "text": [
            "CampusX\n"
          ]
        }
      ]
    },
    {
      "cell_type": "markdown",
      "source": [
        "### `Q2`: Replace words from Dictionary. Given String, replace it’s words from lookup dictionary.\n",
        "\n",
        "**Example 1:**\n",
        "\n",
        "Input:\n",
        "\n",
        "```bash\n",
        "test_str = 'CampusX best for DS students.'\n",
        "repl_dict = {\"best\" : \"is the best channel\", \"DS\" : \"Data-Science\"}\n",
        "```\n",
        "\n",
        "Output:\n",
        "\n",
        "```bash\n",
        "CampusX is the best channel for Data-Science students.\n",
        "```\n",
        "\n",
        "**Example 2:**\n",
        "\n",
        "Input:\n",
        "```bash\n",
        "test_str = 'CampusX best for DS students.'\n",
        "repl_dict = {\"good\" : \"is the best channel\", \"ds\" : \"Data-Science\"}\n",
        "```\n",
        "\n",
        "Output:\n",
        "```bash\n",
        "CampusX best for DS students.\n",
        "```"
      ],
      "metadata": {
        "id": "_S5X6C84dWdJ"
      }
    },
    {
      "cell_type": "code",
      "source": [
        "# write your code here\n",
        "test_str = 'CampusX best for DS students.'\n",
        "repl_dict = {\"best\" : \"is the best channel\", \"DS\" : \"Data-Science\"}\n",
        "\n",
        "for i in repl_dict:\n",
        "  test_str = test_str.replace(i, repl_dict[i])\n",
        "\n",
        "print(test_str)"
      ],
      "metadata": {
        "id": "BTAQ8qnrlOxr",
        "outputId": "1f5022e5-a67a-450f-b803-076a37beb6b0",
        "colab": {
          "base_uri": "https://localhost:8080/"
        }
      },
      "execution_count": 33,
      "outputs": [
        {
          "output_type": "stream",
          "name": "stdout",
          "text": [
            "best\n",
            "ye dict wala h  is the best channel\n",
            "DS\n",
            "ye dict wala h  Data-Science\n",
            "CampusX is the best channel for Data-Science students.\n"
          ]
        }
      ]
    },
    {
      "cell_type": "markdown",
      "source": [
        "### `Q3`: Convert List to List of dictionaries. Given list values and keys list, convert these values to key value pairs in form of list of dictionaries.\n",
        "\n",
        "**Example 1:**\n",
        "\n",
        "Input:\n",
        "```bash\n",
        "test_list = [\"DataScience\", 3, \"is\", 8]\n",
        "key_list = [\"name\", \"id\"]\n",
        "```\n",
        "\n",
        "Output:\n",
        "\n",
        "```bash\n",
        "[{'name': 'DataScience', 'id': 3}, {'name': 'is', 'id': 8}]\n",
        "```\n",
        "\n",
        "**Example 2:**\n",
        "\n",
        "Input:\n",
        "```bash\n",
        "test_list = [\"CampusX\", 10]\n",
        "key_list = [\"name\", \"id\"]\n",
        "```\n",
        "\n",
        "Output:\n",
        "\n",
        "```bash\n",
        "[{'name': 'CampusX', 'id': 10}]\n",
        "```"
      ],
      "metadata": {
        "id": "55xgap3zfbcR"
      }
    },
    {
      "cell_type": "code",
      "source": [
        "# write your code here\n",
        "test_list = [\"DataScience\", 3, \"is\", 8]\n",
        "key_list = [\"name\", \"id\"]\n",
        "\n",
        "dict(zip(key_list, test_list))\n",
        "\n",
        "n = len(test_list)\n",
        "result = []\n",
        "\n",
        "for i in range(0, n, 2):\n",
        "  result.append(key_list[0]: test_list[i], key_list[1]: test_list[i+1])\n",
        "\n",
        "print(result)"
      ],
      "metadata": {
        "id": "jbCajI87lQFr",
        "outputId": "f192b94e-5415-4072-e088-0edca0d5a131",
        "colab": {
          "base_uri": "https://localhost:8080/",
          "height": 108
        }
      },
      "execution_count": 36,
      "outputs": [
        {
          "output_type": "error",
          "ename": "SyntaxError",
          "evalue": "invalid syntax (<ipython-input-36-5a0ef84b906b>, line 11)",
          "traceback": [
            "\u001b[0;36m  File \u001b[0;32m\"<ipython-input-36-5a0ef84b906b>\"\u001b[0;36m, line \u001b[0;32m11\u001b[0m\n\u001b[0;31m    result.append(key_list[0]: test_list[i], key_list[1]: test_list[i+1])\u001b[0m\n\u001b[0m                             ^\u001b[0m\n\u001b[0;31mSyntaxError\u001b[0m\u001b[0;31m:\u001b[0m invalid syntax\n"
          ]
        }
      ]
    },
    {
      "cell_type": "markdown",
      "source": [
        "### `Q4`: Convert a list of Tuples into Dictionary.\n",
        "\n",
        "**Example 1:**\n",
        "\n",
        "Input:\n",
        "```bash\n",
        "[(\"akash\", 10), (\"gaurav\", 12), (\"anand\", 14), (\"suraj\", 20), (\"akhil\", 25), (\"ashish\", 30)]\n",
        "```\n",
        "\n",
        "Output:\n",
        "```bash\n",
        "{'akash': [10], 'gaurav': [12], 'anand': [14], 'suraj': [20], 'akhil': [25], 'ashish': [30]}\n",
        "```\n",
        "\n",
        "**Example 2:**\n",
        "\n",
        "Input:\n",
        "```bash\n",
        "[('A', 1), ('B', 2), ('C', 3)]\n",
        "```\n",
        "\n",
        "Output:\n",
        "```bash\n",
        "{'A': [1], 'B': [2], 'C': [3]}\n",
        "```"
      ],
      "metadata": {
        "id": "5RxBlLQahLkB"
      }
    },
    {
      "cell_type": "code",
      "source": [
        "# write your code here\n",
        "test_list = [(\"akash\", 10), (\"gaurav\", 12), (\"anand\", 14), (\"suraj\", 20), (\"akhil\", 25), (\"ashish\", 30)]\n",
        "\n",
        "dict(test_list)\n",
        "d = {}\n",
        "for i,j in test_list:\n",
        "  d[i] = j\n",
        "\n",
        "print(d)\n",
        "\n"
      ],
      "metadata": {
        "id": "f1yz7inMlQ5N",
        "outputId": "629449a7-a370-49be-c505-f17c4c8f280e",
        "colab": {
          "base_uri": "https://localhost:8080/"
        }
      },
      "execution_count": 38,
      "outputs": [
        {
          "output_type": "stream",
          "name": "stdout",
          "text": [
            "{'akash': 10, 'gaurav': 12, 'anand': 14, 'suraj': 20, 'akhil': 25, 'ashish': 30}\n"
          ]
        }
      ]
    },
    {
      "cell_type": "markdown",
      "source": [
        "### `Q5`: Sort Dictionary key and values List.\n",
        "\n",
        "**Example 1:**\n",
        "\n",
        "Input:\n",
        "\n",
        "```bash\n",
        "{'c': [3], 'b': [12, 10], 'a': [19, 4]}\n",
        "```\n",
        "\n",
        "Output:\n",
        "\n",
        "```bash\n",
        "{'a': [4, 19], 'b': [10, 12], 'c': [3]}\n",
        "```\n",
        "\n",
        "**Example 2:**\n",
        "\n",
        "Input:\n",
        "\n",
        "```bash\n",
        "{'c': [10, 34, 3]}\n",
        "```\n",
        "\n",
        "Output:\n",
        "\n",
        "```bash\n",
        "{'c': [3, 10, 34]}\n",
        "```"
      ],
      "metadata": {
        "id": "Fz8EzJD-kBkS"
      }
    },
    {
      "cell_type": "code",
      "source": [
        "# write your code here\n",
        "d = {'c': [3], 'b': [12, 10], 'a': [19, 4]}\n",
        "\n",
        "res = {}\n",
        "for i in sorted(d):\n",
        "  res[i] = sorted(d[i])\n",
        "\n",
        "print(res)"
      ],
      "metadata": {
        "id": "x9UmJ4EQk7Pp",
        "outputId": "5921281b-6a35-4efc-f97b-92d82d99c017",
        "colab": {
          "base_uri": "https://localhost:8080/"
        }
      },
      "execution_count": 46,
      "outputs": [
        {
          "output_type": "stream",
          "name": "stdout",
          "text": [
            "{'a': [4, 19], 'b': [10, 12], 'c': [3]}\n"
          ]
        }
      ]
    },
    {
      "cell_type": "code",
      "source": [],
      "metadata": {
        "id": "4U85jPwY8LWe"
      },
      "execution_count": null,
      "outputs": []
    },
    {
      "cell_type": "code",
      "source": [],
      "metadata": {
        "id": "69ACcBrE7vct"
      },
      "execution_count": null,
      "outputs": []
    }
  ]
}