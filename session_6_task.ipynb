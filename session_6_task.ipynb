{
  "nbformat": 4,
  "nbformat_minor": 0,
  "metadata": {
    "colab": {
      "provenance": [],
      "include_colab_link": true
    },
    "kernelspec": {
      "name": "python3",
      "display_name": "Python 3"
    },
    "language_info": {
      "name": "python"
    }
  },
  "cells": [
    {
      "cell_type": "markdown",
      "metadata": {
        "id": "view-in-github",
        "colab_type": "text"
      },
      "source": [
        "<a href=\"https://colab.research.google.com/github/maushamkumar/Python/blob/main/session_6_task.ipynb\" target=\"_parent\"><img src=\"https://colab.research.google.com/assets/colab-badge.svg\" alt=\"Open In Colab\"/></a>"
      ]
    },
    {
      "cell_type": "markdown",
      "source": [
        "### **`Problem-1:`** Write a Python function that takes a list and returns a new list with unique elements of the first list.\n",
        "\n",
        "**Exercise 1:**\n",
        "\n",
        "Input:\n",
        "\n",
        "```bash\n",
        "[1,2,3,3,3,3,4,5]\n",
        "```\n",
        "\n",
        "Output:\n",
        "\n",
        "```bash\n",
        "[1, 2, 3, 4, 5]\n",
        "```"
      ],
      "metadata": {
        "id": "h6dDSW5XGZFi"
      }
    },
    {
      "cell_type": "code",
      "source": [
        "l = [1,2,3,3,3,3,4,5]\n",
        "\n",
        "lst = []\n",
        "\n",
        "for i in l:\n",
        "  if i not in lst:\n",
        "    lst.append(i)\n",
        "\n",
        "print(lst)\n",
        "\n",
        "def unique(l):\n",
        "\n",
        "  lst = []\n",
        "\n",
        "  for i in l:\n",
        "    if i not in lst:\n",
        "      lst.append(i)\n",
        "  return lst\n",
        "\n",
        "print(unique(l))"
      ],
      "metadata": {
        "id": "R5pq1C9LGe1y",
        "outputId": "8835a949-6d7e-4e0f-d9b0-d63e57d54d80",
        "colab": {
          "base_uri": "https://localhost:8080/"
        }
      },
      "execution_count": 7,
      "outputs": [
        {
          "output_type": "stream",
          "name": "stdout",
          "text": [
            "[1, 2, 3, 4, 5]\n",
            "[1, 2, 3, 4, 5]\n"
          ]
        }
      ]
    },
    {
      "cell_type": "markdown",
      "source": [
        "### **`Problem-2:`** Write a Python function that accepts a hyphen-separated sequence of words as parameter and returns the words in a hyphen-separated sequence after sorting them alphabetically.\n",
        "\n",
        "**Example 1:**\n",
        "\n",
        "Input:\n",
        "```bash\n",
        "green-red-yellow-black-white\n",
        "```\n",
        "\n",
        "Output:\n",
        "```bash\n",
        "black-green-red-white-yellow\n",
        "```"
      ],
      "metadata": {
        "id": "UxQ_VoyJGwHj"
      }
    },
    {
      "cell_type": "code",
      "source": [
        "# Write code here\n",
        "text = \"green-red-yellow-black-white\"\n",
        "\n",
        "word = (text.split('-'))\n",
        "a = sorted(word)\n",
        "a = '-'.join(a)\n",
        "a\n",
        "\n",
        "def sort_word(text):\n",
        "\n",
        "  word = text.split('-')\n",
        "  a = sorted(word)\n",
        "  a = '-'.join(a)\n",
        "  return a\n",
        "\n",
        "print(sort_word(text))"
      ],
      "metadata": {
        "id": "AAts2m5zGwiQ",
        "outputId": "b0e64b0a-d3c9-4152-e814-afb5325828c3",
        "colab": {
          "base_uri": "https://localhost:8080/",
          "height": 35
        }
      },
      "execution_count": 25,
      "outputs": [
        {
          "output_type": "execute_result",
          "data": {
            "text/plain": [
              "'black-green-red-white-yellow'"
            ],
            "application/vnd.google.colaboratory.intrinsic+json": {
              "type": "string"
            }
          },
          "metadata": {},
          "execution_count": 25
        }
      ]
    },
    {
      "cell_type": "markdown",
      "source": [
        "### **`Problem 3:`** Write a Python function that accepts a string and calculate the number of upper case letters and lower case letters.\n",
        "\n",
        "```\n",
        "Sample String : 'CampusX is an Online Mentorship Program fOr EnginEering studentS.'\n",
        "Expected Output :\n",
        "No. of Upper case characters :  9\n",
        "No. of Lower case Characters :  47\n",
        "```"
      ],
      "metadata": {
        "id": "IRGH62S7Gx_n"
      }
    },
    {
      "cell_type": "code",
      "source": [
        "# Write code here\n",
        "text = 'CampusX is an Online Mentorship Program fOr EnginEering studentS.'\n",
        "\n",
        "upper = 0\n",
        "lower = 0\n",
        "\n",
        "for i in text:\n",
        "  if i.isupper():\n",
        "    upper += 1\n",
        "  elif i.islower():\n",
        "    lower += 1\n",
        "\n",
        "print(f'No. of Upper case characters : {upper}')\n",
        "print(f'No. of Lower case Characters : {lower}')\n",
        "\n",
        "def uppercase_and_lowercase(text):\n",
        "  upper = 0\n",
        "  lower = 0\n",
        "\n",
        "  for i in text:\n",
        "    if i.isupper():\n",
        "      upper += 1\n",
        "    elif i.islower():\n",
        "      lower += 1"
      ],
      "metadata": {
        "id": "OaUrD8vVG5o8",
        "outputId": "5c0e692e-9a12-44be-dd5e-9a3f8c61aae0",
        "colab": {
          "base_uri": "https://localhost:8080/"
        }
      },
      "execution_count": 26,
      "outputs": [
        {
          "output_type": "stream",
          "name": "stdout",
          "text": [
            "No. of Upper case characters : 9\n",
            "No. of Lower case Characters : 47\n"
          ]
        }
      ]
    },
    {
      "cell_type": "markdown",
      "source": [
        "### **`Problem 4:`** Write a Python program to print the even numbers from a given list.\n",
        "```\n",
        "Sample List : [1, 2, 3, 4, 5, 6, 7, 8, 9]\n",
        "Expected Result : [2, 4, 6, 8]\n",
        "```"
      ],
      "metadata": {
        "id": "V1BFFdYQG7Sn"
      }
    },
    {
      "cell_type": "code",
      "source": [
        "# Write code here\n",
        "def even(l):\n",
        "  even = []\n",
        "  for i in l:\n",
        "    if i % 2 == 0:\n",
        "      even.append(i)\n",
        "  return even\n",
        "\n",
        "\n",
        "even([1, 2, 3, 4, 5, 6, 7, 8, 9])"
      ],
      "metadata": {
        "id": "VvAReLoDG_Z3",
        "outputId": "129e015c-77b1-474c-973f-a50b1548dc89",
        "colab": {
          "base_uri": "https://localhost:8080/"
        }
      },
      "execution_count": 27,
      "outputs": [
        {
          "output_type": "execute_result",
          "data": {
            "text/plain": [
              "[2, 4, 6, 8]"
            ]
          },
          "metadata": {},
          "execution_count": 27
        }
      ]
    },
    {
      "cell_type": "markdown",
      "source": [
        "### **`Problem 5:`** Write a Python function to check whether a number is perfect or not.\n",
        "\n",
        "A Perfect number is a number that is half the sum of all of its positive divisors (including itself).\n",
        "\n",
        "Example :\n",
        "\n",
        "```\n",
        "The first perfect number is 6, because 1, 2, and 3 are its proper positive divisors, and 1 + 2 + 3 = 6.\n",
        "Equivalently, the number 6 is equal to half the sum of all its positive divisors: ( 1 + 2 + 3 + 6 ) / 2 = 6.\n",
        "\n",
        "The next perfect number is 28 = 1 + 2 + 4 + 7 + 14. This is followed by the perfect numbers 496 and 8128.\n",
        "```\n"
      ],
      "metadata": {
        "id": "qrK39Gn-HHb4"
      }
    },
    {
      "cell_type": "code",
      "source": [
        "# Write code here\n",
        "num = int(input('Enter a number: '))\n",
        "\n",
        "sum = 0\n",
        "\n",
        "for i in range(1,num):\n",
        "  if num % i == 0:\n",
        "    sum += i\n",
        "if sum == num:\n",
        "  print(f'{num} is a perfect number')\n",
        "else:\n",
        "  print(f'{num} is not a perfect number')\n",
        "\n",
        "\n",
        "def perfect_number(num):\n",
        "  sum = 0\n",
        "\n",
        "  for i in range(1,num):\n",
        "    if num % i == 0:\n",
        "      sum += i\n",
        "  if sum == num:\n",
        "    print(f'{num} is a perfect number')\n",
        "  else:\n",
        "    print(f'{num} is not a perfect number')\n",
        "\n",
        "\n",
        "perfect_number(num)"
      ],
      "metadata": {
        "id": "P-OI7H78HICs",
        "outputId": "9ae9d166-277b-4465-edec-10b6dd2debbe",
        "colab": {
          "base_uri": "https://localhost:8080/"
        }
      },
      "execution_count": 29,
      "outputs": [
        {
          "output_type": "stream",
          "name": "stdout",
          "text": [
            "Enter a number: 28\n",
            "28 is a perfect number\n"
          ]
        }
      ]
    },
    {
      "cell_type": "markdown",
      "source": [
        "### **`Problem-6:`** Write a Python function to concatenate any no of dictionaries to create a new one.\n",
        "\n",
        "```\n",
        "Sample Dictionary :\n",
        "dic1={1:10, 2:20}\n",
        "dic2={3:30, 4:40}\n",
        "dic3={5:50,6:60}\n",
        "Expected Result : {1: 10, 2: 20, 3: 30, 4: 40, 5: 50, 6: 60}\n",
        "```"
      ],
      "metadata": {
        "id": "oZdpcG77HO-6"
      }
    },
    {
      "cell_type": "code",
      "source": [
        "# Write code here\n",
        "def dict(*args):\n",
        "  d = {}\n",
        "  for i in args:\n",
        "    d.update(i)\n",
        "  return d\n",
        "\n",
        "dic1={1:10, 2:20}\n",
        "dic2={3:30, 4:40}\n",
        "dic3={5:50,6:60}\n",
        "\n",
        "dict(dic1,dic2,dic3)"
      ],
      "metadata": {
        "id": "LQgfAY4ZHPhj",
        "outputId": "54fabe68-c4ca-4c4d-9623-716535b13c5b",
        "colab": {
          "base_uri": "https://localhost:8080/"
        }
      },
      "execution_count": 31,
      "outputs": [
        {
          "output_type": "execute_result",
          "data": {
            "text/plain": [
              "{1: 10, 2: 20, 3: 30, 4: 40, 5: 50, 6: 60}"
            ]
          },
          "metadata": {},
          "execution_count": 31
        }
      ]
    },
    {
      "cell_type": "markdown",
      "source": [
        "`Problem-7` Write a python function that accepts a string as input and returns the word with most occurence.\n",
        "\n",
        "```\n",
        "Input:\n",
        "hello how are you i am fine thank you\n",
        "```\n",
        "\n",
        "```\n",
        "Output\n",
        "you -> 2\n",
        "```"
      ],
      "metadata": {
        "id": "jQ6SzbCkHRd0"
      }
    },
    {
      "cell_type": "code",
      "source": [
        "# Write code here\n",
        "text = input('Enter a text: ')\n",
        "\n",
        "word = {}\n",
        "\n",
        "for i in text.split():\n",
        "  if i in word:\n",
        "    word[i] += 1\n",
        "  else:\n",
        "    word[i] = 1\n",
        "\n",
        "print(max(word), word[max(word)])\n",
        "\n",
        "def most_occurence(text):\n",
        "  word = {}\n",
        "\n",
        "  for i in text.split():\n",
        "    if i in word:\n",
        "      word[i] += 1\n",
        "    else:\n",
        "      word[i] = 1\n",
        "  print(max(word), word[max(word)])"
      ],
      "metadata": {
        "id": "Lh04JHLzIW7Z",
        "outputId": "edaf3a6f-f608-4c40-af7b-bb860838e441",
        "colab": {
          "base_uri": "https://localhost:8080/"
        }
      },
      "execution_count": 35,
      "outputs": [
        {
          "output_type": "stream",
          "name": "stdout",
          "text": [
            "Enter a text: hello how are you i am fine thank you\n",
            "you 2\n"
          ]
        }
      ]
    },
    {
      "cell_type": "markdown",
      "source": [
        "`Problem-8` Write a python function that receives a list of integers and prints out a histogram of bin size 10\n",
        "\n",
        "```\n",
        "Input:\n",
        "[13,42,15,37,22,39,41,50]\n",
        "```\n",
        "\n",
        "```\n",
        "Output:\n",
        "{11-20:2,21-30:1,31-40:2,41-50:3}\n",
        "```"
      ],
      "metadata": {
        "id": "1r8SpVntI-IW"
      }
    },
    {
      "cell_type": "code",
      "source": [
        "# Write code here\n",
        "import math\n",
        "\n",
        "# num = int(input(\"Enter multiple number: \"))\n",
        "num = [13,42,15,37,22,39,41,50]\n",
        "\n",
        "dict = {}\n",
        "min_bin = math.floor(num[0]//10)*10\n",
        "max_bin= math.ceil(num[-1]//10)*10\n",
        "\n",
        "\n",
        "for i in range(min_bin,max_bin,10):\n",
        "\n",
        "  count = 0\n",
        "  for j in num:\n",
        "    if i <= j < i + 10:\n",
        "      count += 1\n",
        "\n",
        "  dict[str(i + 1) + '-' + str(i + 10)] = count\n",
        "\n",
        "print(dict)\n",
        "\n",
        "def histogram(num):\n",
        "  dict = {}\n",
        "  min_bin = math.floor(num[0]//10)*10\n",
        "  max_bin= math.ceil(num[-1]//10)*10\n",
        "\n",
        "\n",
        "  for i in range(min_bin,max_bin,10):\n",
        "\n",
        "    count = 0\n",
        "    for j in num:\n",
        "      if i <= j < i + 10:\n",
        "        count += 1\n",
        "    dict[str(i + 1) + '-' + str(i + 10)] = count\n",
        "  return dict"
      ],
      "metadata": {
        "id": "7W0J8rUjJovg",
        "outputId": "8899fc14-e083-46c9-e80c-92e71071bd58",
        "colab": {
          "base_uri": "https://localhost:8080/"
        }
      },
      "execution_count": 42,
      "outputs": [
        {
          "output_type": "stream",
          "name": "stdout",
          "text": [
            "{'11-20': 2, '21-30': 1, '31-40': 2, '41-50': 2}\n"
          ]
        }
      ]
    },
    {
      "cell_type": "markdown",
      "source": [
        "`Problem-9` Write a python function that accepts a list of 2D co-ordinates and a query point, and then finds the the co-ordinate which is closest in terms of distance from the query point.\n",
        "\n",
        "```\n",
        "List of Coordinates\n",
        "[(1,1),(2,2),(3,3),(4,4)]\n",
        "Query Point\n",
        "(0,0)\n",
        "```\n",
        "\n",
        "```\n",
        "Output\n",
        "Nearest to (0,0) is (1,1)\n",
        "```"
      ],
      "metadata": {
        "id": "1P2-rbgXKE53"
      }
    },
    {
      "cell_type": "code",
      "source": [
        "# Write code here\n",
        "\n",
        "def closest(point, origin):\n",
        "\n",
        "  temp = []\n",
        "\n",
        "  for i in point:\n",
        "    distance = ((i[0] - origin[0])**2 + (i[1] - origin[1])**2)**0.5\n",
        "    temp.append(distance)\n",
        "\n",
        "  return sorted(list(enumerate(temp)), key= lambda s:s[1])[0][0]"
      ],
      "metadata": {
        "id": "zjn7vSTIJ81G"
      },
      "execution_count": null,
      "outputs": []
    },
    {
      "cell_type": "markdown",
      "source": [
        "`Problem-10`:Write a python program that receives a list of strings and performs bag of word operation on those strings\n",
        "\n",
        "https://en.wikipedia.org/wiki/Bag-of-words_model"
      ],
      "metadata": {
        "id": "i-B6igmyK9hB"
      }
    },
    {
      "cell_type": "code",
      "source": [
        "# Write code here\n",
        "\n",
        "def bow(l):\n",
        "  word = set()\n",
        "  for i in l:\n",
        "    word.update(i.split(' '))\n",
        "\n",
        "  result = []\n",
        "  for i in l:\n",
        "    result.append([])\n",
        "    for j in word:\n",
        "      result[-1].append(i.count(j))\n",
        "  return result\n",
        "\n",
        "\n",
        "\n",
        "l = ['cat mat rat sat',\n",
        "     'bat sat fat rat run',\n",
        "     'get run mat hat rat']\n",
        "\n",
        "bow(l)"
      ],
      "metadata": {
        "id": "N2l1_AWULT-z",
        "outputId": "f4aae10f-d5f9-42e9-da81-48e4b3933394",
        "colab": {
          "base_uri": "https://localhost:8080/"
        }
      },
      "execution_count": 4,
      "outputs": [
        {
          "output_type": "execute_result",
          "data": {
            "text/plain": [
              "[[1, 0, 0, 0, 0, 1, 1, 0, 1],\n",
              " [0, 0, 1, 1, 1, 0, 1, 0, 1],\n",
              " [1, 1, 0, 0, 1, 0, 1, 1, 0]]"
            ]
          },
          "metadata": {},
          "execution_count": 4
        }
      ]
    },
    {
      "cell_type": "markdown",
      "source": [
        "###`Problem 11:` Write a Python program to add three given lists using Python map and lambda."
      ],
      "metadata": {
        "id": "dHTRKb-DqMLw"
      }
    },
    {
      "cell_type": "code",
      "source": [
        "# Write code here\n",
        "l1 = [1, 2, 3, 4]\n",
        "l2 = [5, 6, 7, 8]\n",
        "l3 = [9, 10, 11, 12]\n",
        "\n",
        "list(map(lambda x,y,z:x+y+z,l1,l2,l3))"
      ],
      "metadata": {
        "id": "NfJdzyNZqNW-",
        "outputId": "a3973d7b-c33c-4396-ea84-6695c462b6df",
        "colab": {
          "base_uri": "https://localhost:8080/"
        }
      },
      "execution_count": 5,
      "outputs": [
        {
          "output_type": "execute_result",
          "data": {
            "text/plain": [
              "[15, 18, 21, 24]"
            ]
          },
          "metadata": {},
          "execution_count": 5
        }
      ]
    },
    {
      "cell_type": "markdown",
      "source": [
        "###`Problem-12:`Write a Python program to create a list containing the power of said number in bases raised to the corresponding number in the index using Python map.\n",
        "`Input:`\n",
        "```\n",
        "list1 = [1,2,3,4,5,6]\n",
        "```\n",
        "`Output:`\n",
        "```\n",
        "[1,2,9,64,625,-]\n",
        "```\n"
      ],
      "metadata": {
        "id": "MgHP7mbUqO8l"
      }
    },
    {
      "cell_type": "code",
      "source": [
        "# Write code here\n",
        "list1 = [1,2,3,4,5,6]\n",
        "\n",
        "list(map(lambda x,y:x**y, list1, range(len(list1))))"
      ],
      "metadata": {
        "id": "gG3Dc6N3qbvN",
        "outputId": "76174d93-a5ef-45ba-8174-33490e453272",
        "colab": {
          "base_uri": "https://localhost:8080/"
        }
      },
      "execution_count": 6,
      "outputs": [
        {
          "output_type": "execute_result",
          "data": {
            "text/plain": [
              "[1, 2, 9, 64, 625, 7776]"
            ]
          },
          "metadata": {},
          "execution_count": 6
        }
      ]
    },
    {
      "cell_type": "markdown",
      "source": [
        "###`Problem-13` Using filter() and list() functions and .lower() method filter all the vowels in a given string.\n",
        "\n"
      ],
      "metadata": {
        "id": "G26SYq6vqdLN"
      }
    },
    {
      "cell_type": "code",
      "source": [
        "# Write code here\n",
        "text = 'CampusX is an Online Mentorship Program fOr EnginEering studentS.'\n",
        "\n",
        "list(filter(lambda x:True if x.lower() in 'aeiou' else False,text))"
      ],
      "metadata": {
        "id": "zurga3DIqmEx",
        "outputId": "278ef894-3b83-48c3-b8fe-02e4b19c6dcd",
        "colab": {
          "base_uri": "https://localhost:8080/"
        }
      },
      "execution_count": 9,
      "outputs": [
        {
          "output_type": "execute_result",
          "data": {
            "text/plain": [
              "['a',\n",
              " 'u',\n",
              " 'i',\n",
              " 'a',\n",
              " 'O',\n",
              " 'i',\n",
              " 'e',\n",
              " 'e',\n",
              " 'o',\n",
              " 'i',\n",
              " 'o',\n",
              " 'a',\n",
              " 'O',\n",
              " 'E',\n",
              " 'i',\n",
              " 'E',\n",
              " 'e',\n",
              " 'i',\n",
              " 'u',\n",
              " 'e']"
            ]
          },
          "metadata": {},
          "execution_count": 9
        }
      ]
    },
    {
      "cell_type": "markdown",
      "source": [
        "`Problem-14`: Use reduce to convert a 2D list to 1D"
      ],
      "metadata": {
        "id": "uQrsunZSqoYu"
      }
    },
    {
      "cell_type": "code",
      "source": [
        "# Write code here\n",
        "int_lst = [[1,2,3],[4,5,6],[7,8,9]]\n",
        "\n",
        "from functools import reduce\n",
        "reduce(lambda x,y:x+y,int_lst)"
      ],
      "metadata": {
        "id": "E1YUwnfgqnka",
        "outputId": "81c2b4da-62cd-451c-bb01-b3e732517496",
        "colab": {
          "base_uri": "https://localhost:8080/"
        }
      },
      "execution_count": 10,
      "outputs": [
        {
          "output_type": "execute_result",
          "data": {
            "text/plain": [
              "[1, 2, 3, 4, 5, 6, 7, 8, 9]"
            ]
          },
          "metadata": {},
          "execution_count": 10
        }
      ]
    },
    {
      "cell_type": "markdown",
      "source": [
        "`Problem 15`- A dictionary contains following information about 5 employees:\n",
        "- First name\n",
        "- Last name\n",
        "- Age\n",
        "- Grade(Skilled,Semi-skilled,Highly skilled)<br>\n",
        "Write a program using map/filter/reduce to a list of employees(first name + last name) who are highly skilled"
      ],
      "metadata": {
        "id": "8-DLQEawt-_t"
      }
    },
    {
      "cell_type": "code",
      "source": [
        "# Write code here\n",
        "employees = [\n",
        "    {\n",
        "        'fname':'Nitish',\n",
        "        'lname':'Singh',\n",
        "        'age' : 33,\n",
        "        'grade':'skilled'\n",
        "    },\n",
        "    {\n",
        "        'fname':'Ankit',\n",
        "        'lname':'Verma',\n",
        "        'age' : 34,\n",
        "        'grade':'semi-skilled'\n",
        "    },\n",
        "    {\n",
        "        'fname':'Neha',\n",
        "        'lname':'Singh',\n",
        "        'age' : 35,\n",
        "        'grade':'highly-skilled'\n",
        "    },\n",
        "    {\n",
        "        'fname':'Anurag',\n",
        "        'lname':'Kumar',\n",
        "        'age' : 30,\n",
        "        'grade':'skilled'\n",
        "    },\n",
        "    {\n",
        "        'fname':'Abhinav',\n",
        "        'lname':'Sharma',\n",
        "        'age' : 37,\n",
        "        'grade':'highly-skilled'\n",
        "    }\n",
        "\n",
        "]"
      ],
      "metadata": {
        "id": "OLvptttLs6OU"
      },
      "execution_count": 12,
      "outputs": []
    },
    {
      "cell_type": "code",
      "source": [
        "list(map(lambda x:x['fname'] + ' ' + x['lname'],list(filter(lambda x:True if x['grade'] == 'highly-skilled' else False,employees))))"
      ],
      "metadata": {
        "id": "vLX0FAQkui3y",
        "colab": {
          "base_uri": "https://localhost:8080/"
        },
        "outputId": "e7d50543-c30e-4a20-c793-756f5a435df7"
      },
      "execution_count": null,
      "outputs": [
        {
          "output_type": "execute_result",
          "data": {
            "text/plain": [
              "['Neha Singh', 'Abhinav Sharma']"
            ]
          },
          "metadata": {},
          "execution_count": 17
        }
      ]
    },
    {
      "cell_type": "code",
      "source": [
        "list(filter(lambda x:True if x['grade'] == 'highly-skilled' else False, employees))"
      ],
      "metadata": {
        "id": "ldMjGfkgAMr9",
        "outputId": "b88cf1aa-e90e-47e0-cc99-20e539bd1dda",
        "colab": {
          "base_uri": "https://localhost:8080/"
        }
      },
      "execution_count": 13,
      "outputs": [
        {
          "output_type": "execute_result",
          "data": {
            "text/plain": [
              "[{'fname': 'Neha', 'lname': 'Singh', 'age': 35, 'grade': 'highly-skilled'},\n",
              " {'fname': 'Abhinav', 'lname': 'Sharma', 'age': 37, 'grade': 'highly-skilled'}]"
            ]
          },
          "metadata": {},
          "execution_count": 13
        }
      ]
    },
    {
      "cell_type": "code",
      "source": [
        "list(map(lambda x:x['fname'] + ' ' + x['lname'] + ', Age =>' + str(x['age']),list(filter(lambda x:True if x['grade'] == 'highly-skilled' else False,employees))))"
      ],
      "metadata": {
        "id": "QkZaN2JCMUGv",
        "outputId": "be33c458-a2e1-449a-8233-000b25f84257",
        "colab": {
          "base_uri": "https://localhost:8080/"
        }
      },
      "execution_count": 18,
      "outputs": [
        {
          "output_type": "execute_result",
          "data": {
            "text/plain": [
              "['Neha Singh, Age =>35', 'Abhinav Sharma, Age =>37']"
            ]
          },
          "metadata": {},
          "execution_count": 18
        }
      ]
    },
    {
      "cell_type": "code",
      "source": [],
      "metadata": {
        "id": "FwQr9bqvMgvv"
      },
      "execution_count": null,
      "outputs": []
    }
  ]
}