{
  "nbformat": 4,
  "nbformat_minor": 0,
  "metadata": {
    "colab": {
      "provenance": [],
      "include_colab_link": true
    },
    "kernelspec": {
      "name": "python3",
      "display_name": "Python 3"
    },
    "language_info": {
      "name": "python"
    }
  },
  "cells": [
    {
      "cell_type": "markdown",
      "metadata": {
        "id": "view-in-github",
        "colab_type": "text"
      },
      "source": [
        "<a href=\"https://colab.research.google.com/github/maushamkumar/Python/blob/main/session_2_task.ipynb\" target=\"_parent\"><img src=\"https://colab.research.google.com/assets/colab-badge.svg\" alt=\"Open In Colab\"/></a>"
      ]
    },
    {
      "cell_type": "markdown",
      "source": [
        "### `Problem 1`: Write a program that will give you in hand monthly salary after deduction on CTC - HRA(10%), DA(5%), PF(3%) and taxes deduction as below:\n",
        "\n",
        "> Salary(Lakhs) : Tax(%)\n",
        "\n",
        "*   Below 5 : 0%\n",
        "*   5-10 : 10%\n",
        "*   10-20 : 20%\n",
        "*   aboove 20 : 30%"
      ],
      "metadata": {
        "id": "w6RlOAXV2PWh"
      }
    },
    {
      "cell_type": "code",
      "source": [
        "# Write code here\n",
        "ctc = float(input(\"Enter you salary: \"))\n",
        "if ctc < 500000:\n",
        "  salary = ctc * .82\n",
        "elif ctc < 100000:\n",
        "  salary = ctc * .72\n",
        "elif ctc < 2000000:\n",
        "  salary = ctc * .62\n",
        "else:\n",
        "  salary = ctc * .52\n",
        "\n",
        "print(\"you in hand monthly salary will be :-\", round(salary/12, 2))"
      ],
      "metadata": {
        "id": "7tMHvKYO2etI",
        "outputId": "2e19a184-9d2f-4395-c9bf-b2536c2d7f33",
        "colab": {
          "base_uri": "https://localhost:8080/"
        }
      },
      "execution_count": 2,
      "outputs": [
        {
          "output_type": "stream",
          "name": "stdout",
          "text": [
            "Enter you salary: 500000\n",
            "you in hand monthly salary will be :- 25833.33\n"
          ]
        }
      ]
    },
    {
      "cell_type": "markdown",
      "source": [
        "### `Problem 2`: Write a program that take a user input of three angles and will find out whether it can form a triangle or not."
      ],
      "metadata": {
        "id": "tYzCGqwl2hfN"
      }
    },
    {
      "cell_type": "code",
      "source": [
        "# Write code here\n",
        "first_angle = int(input(\"Enter your first angle: \"))\n",
        "second_angle = int(input(\"Enter your second angle: \"))\n",
        "third_angle = int(input(\"Enter your Third angle: \"))\n",
        "\n",
        "if (first_angle + second_angle + third_angle) == 180 and first_angle > 0 and second_angle > 0 and third_angle > 0:\n",
        "  print(\"Froms a triangle\")\n",
        "else:\n",
        "  print(\"Does not form a triangle\")"
      ],
      "metadata": {
        "id": "FYEqln-I2kxV",
        "outputId": "08608f37-40fa-4f79-d3c2-6947b2e67fc0",
        "colab": {
          "base_uri": "https://localhost:8080/"
        }
      },
      "execution_count": 5,
      "outputs": [
        {
          "output_type": "stream",
          "name": "stdout",
          "text": [
            "Enter your first angle: 20\n",
            "Enter your second angle: 60\n",
            "Enter your Third angle: 100\n",
            "Froms a triangle\n"
          ]
        }
      ]
    },
    {
      "cell_type": "markdown",
      "source": [
        "### `Problem 3`: Write a program that will take user input of cost price and selling price and determines whether its a loss or a profit."
      ],
      "metadata": {
        "id": "5vEpPh8C2pE4"
      }
    },
    {
      "cell_type": "code",
      "source": [
        "# Write code here\n",
        "cost_price = float(input(\"Enter your cost price: \"))\n",
        "selling_price = float(input(\"Enter your selling price: \"))\n",
        "\n",
        "if cost_price < selling_price:\n",
        "  print(\"Profit\")\n",
        "elif cost_price > selling_price:\n",
        "  print(\"Loss\")\n",
        "else:\n",
        "  print(\"No loss No gain\")"
      ],
      "metadata": {
        "id": "jDwBXlkO2sfl",
        "outputId": "067ef7b4-ad14-49fd-ad4a-9ac3e635ecfa",
        "colab": {
          "base_uri": "https://localhost:8080/"
        }
      },
      "execution_count": 6,
      "outputs": [
        {
          "output_type": "stream",
          "name": "stdout",
          "text": [
            "Enter your cost price: 20\n",
            "Enter your selling price30\n",
            "Profit\n"
          ]
        }
      ]
    },
    {
      "cell_type": "markdown",
      "source": [
        "### `Problem 4`: Write a menu-driven program -\n",
        "1. cm to ft\n",
        "2. km to miles\n",
        "3. USD to INR\n",
        "4. exit"
      ],
      "metadata": {
        "id": "J_FG_cJW2ugT"
      }
    },
    {
      "cell_type": "code",
      "source": [
        "# Write code here\n",
        "menu = input(\"\"\"\n",
        "  Hi, select your option\n",
        "  1 Convert cm to fit\n",
        "  2 Convert km to miles\n",
        "  3 Convert USD to INR\n",
        "  4 Exit\n",
        "\"\"\")\n",
        "\n",
        "if menu == '1':\n",
        "  height_in_cm = float(input(\"Enter you height: \"))\n",
        "  print('fit value is:', height_in_cm*0.032)\n",
        "elif menu == '2':\n",
        "  distance_in_km = float(input(\"Enter you distance in km: \"))\n",
        "  print('miles vlaues is:', distance_in_km*0.62)\n",
        "elif menu == '3':\n",
        "  usd = float(input(\"Enter usd\"))\n",
        "  print('INR', usd*80.)\n",
        "\n",
        "else:\n",
        "  exit()\n"
      ],
      "metadata": {
        "id": "yBHhaCGQ2zpD"
      },
      "execution_count": null,
      "outputs": []
    },
    {
      "cell_type": "markdown",
      "source": [
        "### `Problem 5` - Exercise 12: Display Fibonacci series up to 10 terms.\n",
        "\n",
        "*Note: The Fibonacci Sequence is a series of numbers. The next number is found by adding up the two numbers before it. The first two numbers are 0 and 1. For example, 0, 1, 1, 2, 3, 5, 8, 13, 21. The next number in this series above is 13+21 = 34*"
      ],
      "metadata": {
        "id": "LJJ30_Yw27ZU"
      }
    },
    {
      "cell_type": "code",
      "source": [
        "# Write code here\n",
        "num1, num2 = 0, 1\n",
        "for i in range(0, 10):\n",
        "  print(num1)\n",
        "\n",
        "  next = num1 + num2\n",
        "  num1 = num2\n",
        "  num2 = next"
      ],
      "metadata": {
        "id": "ae_1rpe52-5R",
        "outputId": "ccd02d56-b221-4ea2-bb0e-8ecc2f1de366",
        "colab": {
          "base_uri": "https://localhost:8080/"
        }
      },
      "execution_count": 7,
      "outputs": [
        {
          "output_type": "stream",
          "name": "stdout",
          "text": [
            "0\n",
            "1\n",
            "1\n",
            "2\n",
            "3\n",
            "5\n",
            "8\n",
            "13\n",
            "21\n",
            "34\n"
          ]
        }
      ]
    },
    {
      "cell_type": "markdown",
      "source": [
        "### `Problem 6` - Find the factorial of a given number.\n",
        "\n",
        "Write a program to use the loop to find the factorial of a given number.\n",
        "\n",
        "The factorial (symbol: `!`) means to multiply all whole numbers from the chosen number down to 1.\n",
        "\n",
        "For example: calculate the factorial of 5\n",
        "\n",
        "```bash\n",
        "5! = 5 × 4 × 3 × 2 × 1 = 120\n",
        "```\n",
        "\n",
        "Output:\n",
        "\n",
        "```bash\n",
        "120\n",
        "```"
      ],
      "metadata": {
        "id": "pk_I_S4m3PT5"
      }
    },
    {
      "cell_type": "code",
      "source": [
        "# Write code here\n",
        "num = int(input('Enter your number: '))\n",
        "\n",
        "fact = 1\n",
        "for i in range(1, num+1):\n",
        "  fact = fact * i\n",
        "print(fact)"
      ],
      "metadata": {
        "id": "lzXxHegx3Rkc",
        "outputId": "3e90c175-2047-46a4-b5ad-bb47f6c8e866",
        "colab": {
          "base_uri": "https://localhost:8080/"
        }
      },
      "execution_count": 8,
      "outputs": [
        {
          "output_type": "stream",
          "name": "stdout",
          "text": [
            "Enter your number: 5\n",
            "120\n"
          ]
        }
      ]
    },
    {
      "cell_type": "markdown",
      "source": [
        "### `Problem 7` - Reverse a given integer number.\n",
        "\n",
        "Example:\n",
        "\n",
        "`Input:`\n",
        "\n",
        "```bash\n",
        "76542\n",
        "```\n",
        "\n",
        "`Output:`\n",
        "\n",
        "```bash\n",
        "24567\n",
        "```"
      ],
      "metadata": {
        "id": "-17IOi-g3UpU"
      }
    },
    {
      "cell_type": "code",
      "source": [
        "# Write code here\n",
        "x = 76542\n",
        "y = str(x)\n",
        "print(y)\n",
        "m = y[::-1]\n",
        "print(int(m))\n",
        "\n",
        "number = int(input(\"Enter your number: \"))\n",
        "rev = 0\n",
        "\n",
        "while number > 0:\n",
        "  last = number%10\n",
        "  rev = rev * 10 + last\n",
        "  number = number//10\n",
        "\n",
        "print(rev)\n",
        "\n"
      ],
      "metadata": {
        "id": "wJwLpKCr3aVA",
        "outputId": "0dd20f8e-dd21-4873-fcee-dcff50cf8e51",
        "colab": {
          "base_uri": "https://localhost:8080/"
        }
      },
      "execution_count": 14,
      "outputs": [
        {
          "output_type": "stream",
          "name": "stdout",
          "text": [
            "76542\n",
            "24567\n",
            "Enter your number: 3456\n",
            "6543\n"
          ]
        }
      ]
    },
    {
      "cell_type": "markdown",
      "source": [
        "### `Problem 8`: Take a user input as integer N. Find out the sum from 1 to N. If any number if divisible by 5, then skip that number. And if the sum is greater than 300, don't need to calculate the sum further more. Print the final result. And don't use for loop to solve this problem.\n",
        "\n",
        "**Example 1:**\n",
        "\n",
        "`Input:`\n",
        "\n",
        "```bash\n",
        "30\n",
        "```\n",
        "\n",
        "`Output:`\n",
        "\n",
        "```bash\n",
        "276\n",
        "```"
      ],
      "metadata": {
        "id": "-t8PJQaY3sHf"
      }
    },
    {
      "cell_type": "code",
      "source": [
        "# Write code here\n",
        "number = int(input(\"Enter your number: \"))\n",
        "sum = 0\n",
        "i = 1\n",
        "while i < number + 1:\n",
        "  if i % 5 == 0:\n",
        "    i = i + 1\n",
        "    continue\n",
        "  sum += i\n",
        "\n",
        "  if sum > 300:\n",
        "    sum = sum - i\n",
        "    break\n",
        "\n",
        "  i += 1\n",
        "\n",
        "print(sum)"
      ],
      "metadata": {
        "id": "GZB6mGMP3ujT",
        "outputId": "b8ec2882-39b5-4b8c-ffd9-7f6de37d6b98",
        "colab": {
          "base_uri": "https://localhost:8080/"
        }
      },
      "execution_count": 31,
      "outputs": [
        {
          "output_type": "stream",
          "name": "stdout",
          "text": [
            "Enter your number: 30\n",
            "300\n"
          ]
        }
      ]
    },
    {
      "cell_type": "markdown",
      "source": [
        "### `Problem 9`: Write a program that keeps on accepting a number from the user until the user enters Zero. Display the sum and average of all the numbers."
      ],
      "metadata": {
        "id": "Q7ggImeA3xm4"
      }
    },
    {
      "cell_type": "code",
      "source": [
        "# Write code here\n",
        "sum = 0\n",
        "count = 0\n",
        "while True:\n",
        "  number = int(input(\"Enter your number\"))\n",
        "  if number == 0:\n",
        "    break\n",
        "  sum += number\n",
        "  count = count + 1\n",
        "\n",
        "\n",
        "print('sum', sum )\n",
        "print('Average', sum/count)"
      ],
      "metadata": {
        "id": "t_YDSZDe4Kdo",
        "outputId": "348af601-6194-4a38-bc27-3d9abe851d41",
        "colab": {
          "base_uri": "https://localhost:8080/"
        }
      },
      "execution_count": 33,
      "outputs": [
        {
          "output_type": "stream",
          "name": "stdout",
          "text": [
            "Enter your number6\n",
            "Enter your number9\n",
            "Enter your number9\n",
            "Enter your number0\n",
            "sum 24\n",
            "Average 8.0\n"
          ]
        }
      ]
    },
    {
      "cell_type": "markdown",
      "source": [
        "###`Problem 9`: Write a program which will find all such numbers which are divisible by 7 but are not a multiple of 5, between 2000 and 3200 (both included). The numbers obtained should be printed in a comma-separated sequence on a single line."
      ],
      "metadata": {
        "id": "6EhvEMvm4R7s"
      }
    },
    {
      "cell_type": "code",
      "source": [
        "# Write code here\n",
        "for num in range(2000, 3201):\n",
        "  if num % 7 == 0 and num % 5 != 0:\n",
        "    print(num, end=',')"
      ],
      "metadata": {
        "id": "d6RgP1B34T6c",
        "outputId": "49815598-6509-4ae4-efde-f603c58ecdd0",
        "colab": {
          "base_uri": "https://localhost:8080/"
        }
      },
      "execution_count": 3,
      "outputs": [
        {
          "output_type": "stream",
          "name": "stdout",
          "text": [
            "2002,2009,2016,2023,2037,2044,2051,2058,2072,2079,2086,2093,2107,2114,2121,2128,2142,2149,2156,2163,2177,2184,2191,2198,2212,2219,2226,2233,2247,2254,2261,2268,2282,2289,2296,2303,2317,2324,2331,2338,2352,2359,2366,2373,2387,2394,2401,2408,2422,2429,2436,2443,2457,2464,2471,2478,2492,2499,2506,2513,2527,2534,2541,2548,2562,2569,2576,2583,2597,2604,2611,2618,2632,2639,2646,2653,2667,2674,2681,2688,2702,2709,2716,2723,2737,2744,2751,2758,2772,2779,2786,2793,2807,2814,2821,2828,2842,2849,2856,2863,2877,2884,2891,2898,2912,2919,2926,2933,2947,2954,2961,2968,2982,2989,2996,3003,3017,3024,3031,3038,3052,3059,3066,3073,3087,3094,3101,3108,3122,3129,3136,3143,3157,3164,3171,3178,3192,3199,"
          ]
        }
      ]
    },
    {
      "cell_type": "markdown",
      "source": [
        "###`Problem 10`: Write a program, which will find all such numbers between 1000 and 3000 (both included) such that each digit of the number is an even number. The numbers obtained should be printed in a space-separated sequence on a single line.\n",
        "\n"
      ],
      "metadata": {
        "id": "tYvmRR-G4Vp4"
      }
    },
    {
      "cell_type": "code",
      "source": [
        "# Write code here\n",
        "l = []\n",
        "for i in range(1000, 3001):\n",
        "  flag = True\n",
        "\n",
        "  curr = i\n",
        "  while curr > 0:\n",
        "    last = curr % 10\n",
        "    if last % 2 != 0 :\n",
        "      flag = False\n",
        "      break\n",
        "\n",
        "    curr = curr //10\n",
        "\n",
        "  if flag:\n",
        "    l.append(str(i))\n",
        "\n",
        "print(\",\".join(l))\n",
        "\n",
        "\n",
        ""
      ],
      "metadata": {
        "id": "k6Gs1kIf4k19",
        "outputId": "6fec094f-3fc5-4c27-b2e8-628323b4c6c1",
        "colab": {
          "base_uri": "https://localhost:8080/"
        }
      },
      "execution_count": 12,
      "outputs": [
        {
          "output_type": "stream",
          "name": "stdout",
          "text": [
            "2000,2002,2004,2006,2008,2020,2022,2024,2026,2028,2040,2042,2044,2046,2048,2060,2062,2064,2066,2068,2080,2082,2084,2086,2088,2200,2202,2204,2206,2208,2220,2222,2224,2226,2228,2240,2242,2244,2246,2248,2260,2262,2264,2266,2268,2280,2282,2284,2286,2288,2400,2402,2404,2406,2408,2420,2422,2424,2426,2428,2440,2442,2444,2446,2448,2460,2462,2464,2466,2468,2480,2482,2484,2486,2488,2600,2602,2604,2606,2608,2620,2622,2624,2626,2628,2640,2642,2644,2646,2648,2660,2662,2664,2666,2668,2680,2682,2684,2686,2688,2800,2802,2804,2806,2808,2820,2822,2824,2826,2828,2840,2842,2844,2846,2848,2860,2862,2864,2866,2868,2880,2882,2884,2886,2888\n"
          ]
        }
      ]
    },
    {
      "cell_type": "markdown",
      "source": [
        "###`Problem 11`: A robot moves in a plane starting from the original point (0,0). The robot can move toward UP, DOWN, LEFT and RIGHT with a given steps.\n",
        "The trace of robot movement is shown as the following:\n",
        "```\n",
        "UP 5\n",
        "DOWN 3\n",
        "LEFT 3\n",
        "RIGHT 2\n",
        "!\n",
        "```\n",
        "> The numbers after the direction are steps.\n",
        "\n",
        "> `!` means robot stop there.\n",
        "\n",
        "**Please write a program to compute the distance from current position after a sequence of movement and original point.**\n",
        "\n",
        "*If the distance is a float, then just print the nearest integer.*\n",
        "\n",
        "Example:\n",
        "\n",
        "`Input`:\n",
        "```\n",
        "UP 5\n",
        "DOWN 3\n",
        "LEFT 3\n",
        "RIGHT 2\n",
        "!\n",
        "```\n",
        "`Output`:\n",
        "```\n",
        "2\n",
        "```"
      ],
      "metadata": {
        "id": "GV18IINT4mf5"
      }
    },
    {
      "cell_type": "code",
      "source": [
        "# Write code here\n",
        "up = int(input(\"Enter your up value: \"))\n",
        "down = int(input(\"Enter your dowm value: \"))\n",
        "left = int(input(\"Enter your left value: \"))\n",
        "right = int(input(\"Enter right up value: \"))\n",
        "\n",
        "if up > down:\n",
        "    x_axis = up - down\n",
        "else:\n",
        "    x_axis = down - up\n",
        "\n",
        "if left > right:\n",
        "  y_axis = left - right\n",
        "else:\n",
        "  y_axis = right - left\n",
        "\n",
        "distance_from_origin = (x_axis**2 + y_axis**2)**0.5\n",
        "print(distance_from_origin)\n",
        ""
      ],
      "metadata": {
        "id": "6UNMC2aR4w5x",
        "outputId": "488b752c-1c28-4e48-ee8c-dd7f6eca0b90",
        "colab": {
          "base_uri": "https://localhost:8080/"
        }
      },
      "execution_count": 18,
      "outputs": [
        {
          "output_type": "stream",
          "name": "stdout",
          "text": [
            "Enter your up value: 4\n",
            "Enter your dowm value: 5\n",
            "Enter your left value: 4\n",
            "Enter right up value: 3\n",
            "1.4142135623730951\n"
          ]
        }
      ]
    },
    {
      "cell_type": "code",
      "source": [
        "import math\n",
        "\n",
        "# Input values\n",
        "up = int(input(\"Enter your up value: \"))\n",
        "down = int(input(\"Enter your down value: \"))\n",
        "left = int(input(\"Enter your left value: \"))\n",
        "right = int(input(\"Enter your right value: \"))\n",
        "\n",
        "# Calculate x-axis distance\n",
        "if up > down:\n",
        "    x_axis = up - down\n",
        "else:\n",
        "    x_axis = down - up\n",
        "\n",
        "# Calculate y-axis distance\n",
        "if left > right:\n",
        "    y_axis = left - right\n",
        "else:\n",
        "    y_axis = right - left\n",
        "\n",
        "# Calculate the distance from origin\n",
        "distance_from_origin = math.sqrt(x_axis**2 + y_axis**2)\n",
        "\n",
        "print(f\"Distance from origin: {distance_from_origin}\")\n"
      ],
      "metadata": {
        "id": "o5AfjUsz7N78",
        "outputId": "162c7867-12e8-40ec-8a3c-ceefe14bf300",
        "colab": {
          "base_uri": "https://localhost:8080/"
        }
      },
      "execution_count": 14,
      "outputs": [
        {
          "output_type": "stream",
          "name": "stdout",
          "text": [
            "Enter your up value: 4\n",
            "Enter your down value: 5\n",
            "Enter your left value: 4\n",
            "Enter your right value: 3\n",
            "Distance from origin: 1.4142135623730951\n"
          ]
        }
      ]
    },
    {
      "cell_type": "markdown",
      "source": [
        "###`Problem 12`:Write a program to print whether a given number is a prime number or not"
      ],
      "metadata": {
        "id": "3fsAIAhK5GYY"
      }
    },
    {
      "cell_type": "code",
      "source": [
        "# Write code here\n",
        "num = int(input(\"Enter what number do you want to check: \"))\n",
        "\n",
        "if num <= 1:\n",
        "  print(\"Not a prime number\")\n",
        "\n",
        "for i in range(1, num//2):\n",
        "  if num%i == 0:\n",
        "    print(\" a prime number:\")\n",
        "  else:\n",
        "    print(\"Not a prime number\")\n",
        "\n"
      ],
      "metadata": {
        "id": "j6y91lxy5LZs",
        "outputId": "ff37e8fb-0d7e-4166-a914-48d3040190ef",
        "colab": {
          "base_uri": "https://localhost:8080/"
        }
      },
      "execution_count": 8,
      "outputs": [
        {
          "output_type": "stream",
          "name": "stdout",
          "text": [
            "Enter what number do you want to check: 5\n",
            " a prime number:\n"
          ]
        }
      ]
    },
    {
      "cell_type": "markdown",
      "source": [
        "###`Problem 13`:Print all the Armstrong numbers in a given range.\n",
        "Range will be provided by the user<br>\n",
        "Armstrong number is a number that is equal to the sum of cubes of its digits. For example 0, 1, 153, 370, 371 and 407 are the Armstrong numbers."
      ],
      "metadata": {
        "id": "asAbmbK-5NHv"
      }
    },
    {
      "cell_type": "code",
      "source": [
        "# Write code here\n",
        "number = int(input(\"Enter your number: \"))\n",
        "num = number\n",
        "l = []\n",
        "\n",
        "for i in range(number + 1):\n",
        "  flag = True\n",
        "  curr = i\n",
        "\n",
        "  sum = 0\n",
        "  while curr > 0:\n",
        "    last = curr%10\n",
        "    sum = sum + last**3\n",
        "    curr = curr//10\n",
        "\n",
        "    if num == sum:\n",
        "        flag = True\n",
        "    else:\n",
        "      flag = False\n",
        "      continue\n",
        "\n",
        "  if flag:\n",
        "    l.append(str(i))\n",
        "\n",
        "print(\",\".join(l))\n",
        "\n",
        "\n"
      ],
      "metadata": {
        "id": "PZuI67pm5jCT",
        "outputId": "cbd81b42-f226-4ff2-c4da-6ef2428a4b3d",
        "colab": {
          "base_uri": "https://localhost:8080/"
        }
      },
      "execution_count": 51,
      "outputs": [
        {
          "output_type": "stream",
          "name": "stdout",
          "text": [
            "Enter your number: 153\n",
            "0,135,153\n"
          ]
        }
      ]
    },
    {
      "cell_type": "code",
      "source": [
        "start = int(input(\"Enter the starting number: \"))\n",
        "end = int(input(\"Enter the ending number: \"))\n",
        "\n",
        "print(f\"Armstrong numbers between {start} and {end} are:\")\n",
        "\n",
        "current_number = start\n",
        "\n",
        "while current_number <= end:\n",
        "    num_str = str(current_number)\n",
        "    num_digits = len(num_str)\n",
        "\n",
        "    sum_of_powers = 0\n",
        "    for digit in num_str:\n",
        "        sum_of_powers += int(digit) ** num_digits\n",
        "\n",
        "    if sum_of_powers == current_number:\n",
        "        print(current_number)\n",
        "\n",
        "    current_number += 1\n"
      ],
      "metadata": {
        "id": "TTUZfezrAJjw",
        "outputId": "491f51ff-b1ab-482f-c59d-0329b15bc3e3",
        "colab": {
          "base_uri": "https://localhost:8080/"
        }
      },
      "execution_count": 57,
      "outputs": [
        {
          "output_type": "stream",
          "name": "stdout",
          "text": [
            "Enter the starting number: 0 \n",
            "Enter the ending number: 153\n",
            "Armstrong numbers between 0 and 153 are:\n",
            "0\n",
            "1\n",
            "2\n",
            "3\n",
            "4\n",
            "5\n",
            "6\n",
            "7\n",
            "8\n",
            "9\n",
            "153\n"
          ]
        }
      ]
    },
    {
      "cell_type": "markdown",
      "source": [
        "###`Problem 14`:Calculate the angle between the hour hand and minute hand.\n",
        "\n",
        "Note: There can be two angles between hands; we need to print a minimum of two. Also, we need to print the floor of the final result angle. For example, if the final angle is 10.61, we need to print 10.\n",
        "\n",
        "Input:<br>\n",
        "H = 9 , M = 0<br>\n",
        "Output:<br>\n",
        "90<br>\n",
        "Explanation:<br>\n",
        "The minimum angle between hour and minute\n",
        "hand when the time is 9 is 90 degress."
      ],
      "metadata": {
        "id": "ClCQZMqT7gK0"
      }
    },
    {
      "cell_type": "code",
      "source": [
        "# Write code here\n",
        "minute = int(input(\"Enter Minute value: \"))\n",
        "hours = int(input(\"Enter Hour value: \"))\n",
        "\n",
        "minute_anlge = minute * 6\n",
        "Hour_angle = round(30 * hours + minute * 0.5)\n",
        "angle_difference = (Hour_angle - minute_anlge )\n",
        "\n",
        "final_angle = min(angle_difference, 360 - angle_difference)\n",
        "print(final_angle)\n",
        "\n"
      ],
      "metadata": {
        "id": "tNBTCZML7jy_",
        "outputId": "aa3f648b-06dc-4dfa-e0b8-8cc99d227830",
        "colab": {
          "base_uri": "https://localhost:8080/"
        }
      },
      "execution_count": 18,
      "outputs": [
        {
          "output_type": "stream",
          "name": "stdout",
          "text": [
            "Enter Minute value: 7\n",
            "Enter Hour value: 5\n",
            "112\n",
            "154\n"
          ]
        }
      ]
    },
    {
      "cell_type": "markdown",
      "source": [
        "###`Problem 15`:Given two rectangles, find if the given two rectangles overlap or not. A rectangle is denoted by providing the x and y coordinates of two points: the left top corner and the right bottom corner of the rectangle. Two rectangles sharing a side are considered overlapping. (L1 and R1 are the extreme points of the first rectangle and L2 and R2 are the extreme points of the second rectangle).\n",
        "\n",
        "Note: It may be assumed that the rectangles are parallel to the coordinate axis.\n",
        "\n",
        "<img src='https://www.geeksforgeeks.org/wp-content/uploads/rectanglesOverlap.png' width='300' height='200'>"
      ],
      "metadata": {
        "id": "GwacF9Co72Qc"
      }
    },
    {
      "cell_type": "code",
      "source": [
        "# Write code here\n",
        "l1 = (input(\"Enter your L1 (x and y coordinate should be in form of comma separated value): \"))\n",
        "l2 = (input(\"Enter your L2 (x and y coordinate should be in form of comma separated value): \"))\n",
        "r1 = (input(\"Enter your R1 (x and y coordinate should be in form of comma separated value): \"))\n",
        "r2 = (input(\"Enter your R2 (x and y coordinate should be in form of comma separated value): \"))\n",
        "\n",
        "if r1[1] < l2[1] or l1[1] > r2[1]:\n",
        "  print(\"overlapping\")\n",
        "else:\n",
        "  print(\"Mast h koi dikkat nahi \")\n"
      ],
      "metadata": {
        "id": "6rrw_lpH78Rs",
        "outputId": "9ed1cc81-4e9a-480a-bdf6-257401496046",
        "colab": {
          "base_uri": "https://localhost:8080/"
        }
      },
      "execution_count": 59,
      "outputs": [
        {
          "output_type": "stream",
          "name": "stdout",
          "text": [
            "Enter your L1 (x and y coordinate should be in form of comma separated value): 0, 10\n",
            "Enter your L2 (x and y coordinate should be in form of comma separated value): 10, 0\n",
            "Enter your R1 (x and y coordinate should be in form of comma separated value): 5, 5\n",
            "Enter your R2 (x and y coordinate should be in form of comma separated value): 15, 0\n",
            "overlapping\n"
          ]
        }
      ]
    },
    {
      "cell_type": "code",
      "source": [],
      "metadata": {
        "id": "1jIXd6RUELB0"
      },
      "execution_count": null,
      "outputs": []
    }
  ]
}