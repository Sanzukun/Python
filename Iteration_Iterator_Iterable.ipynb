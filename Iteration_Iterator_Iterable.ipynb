{
  "nbformat": 4,
  "nbformat_minor": 0,
  "metadata": {
    "colab": {
      "provenance": [],
      "authorship_tag": "ABX9TyOUYwZKw0ltXmq2J9T7Jcp3",
      "include_colab_link": true
    },
    "kernelspec": {
      "name": "python3",
      "display_name": "Python 3"
    },
    "language_info": {
      "name": "python"
    }
  },
  "cells": [
    {
      "cell_type": "markdown",
      "metadata": {
        "id": "view-in-github",
        "colab_type": "text"
      },
      "source": [
        "<a href=\"https://colab.research.google.com/github/maushamkumar/Python/blob/main/Iteration_Iterator_Iterable.ipynb\" target=\"_parent\"><img src=\"https://colab.research.google.com/assets/colab-badge.svg\" alt=\"Open In Colab\"/></a>"
      ]
    },
    {
      "cell_type": "markdown",
      "source": [
        "## What is an Iteration\n",
        "Iteration is a general term for taking each item of something, one after another, Any time you use a loop, explicitly, to go over a group of items, that is iteration."
      ],
      "metadata": {
        "id": "ZntlxmGW_Nfd"
      }
    },
    {
      "cell_type": "code",
      "execution_count": 1,
      "metadata": {
        "colab": {
          "base_uri": "https://localhost:8080/"
        },
        "id": "PONw7DAj_GEl",
        "outputId": "3be5fafc-e94f-47a4-9051-2bf93cab66ba"
      },
      "outputs": [
        {
          "output_type": "stream",
          "name": "stdout",
          "text": [
            "1\n",
            "2\n",
            "3\n"
          ]
        }
      ],
      "source": [
        "num = [1, 2, 3]\n",
        "for i in num:\n",
        "  print(i)"
      ]
    },
    {
      "cell_type": "markdown",
      "source": [
        "## What is Iterator\n",
        "An Iterator is an object that allows the programmer to traverse through a sequence of data without having to store the entire data in memory.*italicised text*"
      ],
      "metadata": {
        "id": "xr1PpL1R_qi9"
      }
    },
    {
      "cell_type": "code",
      "source": [
        "l = [x for x in range(1, 100000)] # This is Iterable\n",
        "for i in l:\n",
        "  print(i*2)\n",
        "\n",
        "import sys\n",
        "print(sys.getsizeof(l)/64)\n",
        "\n",
        "x = range(1, 100000) # This is Iterator. Uses less memory. # This is also Iterable.\n",
        "for i in x:\n",
        "  print(i)\n",
        "print(sys.getsizeof(l)/64)"
      ],
      "metadata": {
        "id": "vw2Se4Kp_7HL"
      },
      "execution_count": null,
      "outputs": []
    },
    {
      "cell_type": "markdown",
      "source": [
        "## What is Iterable\n",
        "* Iterable is an object. which one can iterate over\n",
        "* It generates an iterator when passed to iter() method."
      ],
      "metadata": {
        "id": "FzZSPSrS_7uH"
      }
    },
    {
      "cell_type": "code",
      "source": [
        "l = [1, 2, 3]\n",
        "print(type(l))\n",
        "\n",
        "# l is an iterable\n",
        "type(iter(l))\n",
        "# Iter(L) ---> Iterator"
      ],
      "metadata": {
        "colab": {
          "base_uri": "https://localhost:8080/"
        },
        "id": "yN8zzkClBqfm",
        "outputId": "f6f1a3db-3144-4bbb-aecc-3925c7eaf61b"
      },
      "execution_count": 3,
      "outputs": [
        {
          "output_type": "stream",
          "name": "stdout",
          "text": [
            "<class 'list'>\n"
          ]
        },
        {
          "output_type": "execute_result",
          "data": {
            "text/plain": [
              "list_iterator"
            ]
          },
          "metadata": {},
          "execution_count": 3
        }
      ]
    },
    {
      "cell_type": "markdown",
      "source": [
        "## Point to remember\n",
        "* Every Iterator is also an Iterable\n",
        "* Not all Iterables are Iterators"
      ],
      "metadata": {
        "id": "mZ4pG_0oCVPV"
      }
    },
    {
      "cell_type": "markdown",
      "source": [
        "## Trick\n",
        "* Every iterable has an iter function\n",
        "* Every Iterator has both iter function as well as a next function"
      ],
      "metadata": {
        "id": "ctgdXXHmChwu"
      }
    },
    {
      "cell_type": "code",
      "source": [
        "# This is for Iterable\n",
        "a = 2\n",
        "a\n",
        "for i in a:\n",
        "  print(i)"
      ],
      "metadata": {
        "colab": {
          "base_uri": "https://localhost:8080/",
          "height": 198
        },
        "id": "WwO6XvL6CIO-",
        "outputId": "eae25163-0f01-40de-cfd2-61345df397f5"
      },
      "execution_count": 4,
      "outputs": [
        {
          "output_type": "error",
          "ename": "TypeError",
          "evalue": "'int' object is not iterable",
          "traceback": [
            "\u001b[0;31m---------------------------------------------------------------------------\u001b[0m",
            "\u001b[0;31mTypeError\u001b[0m                                 Traceback (most recent call last)",
            "\u001b[0;32m<ipython-input-4-84eff53f5706>\u001b[0m in \u001b[0;36m<cell line: 3>\u001b[0;34m()\u001b[0m\n\u001b[1;32m      1\u001b[0m \u001b[0ma\u001b[0m \u001b[0;34m=\u001b[0m \u001b[0;36m2\u001b[0m\u001b[0;34m\u001b[0m\u001b[0;34m\u001b[0m\u001b[0m\n\u001b[1;32m      2\u001b[0m \u001b[0ma\u001b[0m\u001b[0;34m\u001b[0m\u001b[0;34m\u001b[0m\u001b[0m\n\u001b[0;32m----> 3\u001b[0;31m \u001b[0;32mfor\u001b[0m \u001b[0mi\u001b[0m \u001b[0;32min\u001b[0m \u001b[0ma\u001b[0m\u001b[0;34m:\u001b[0m\u001b[0;34m\u001b[0m\u001b[0;34m\u001b[0m\u001b[0m\n\u001b[0m\u001b[1;32m      4\u001b[0m   \u001b[0mprint\u001b[0m\u001b[0;34m(\u001b[0m\u001b[0mi\u001b[0m\u001b[0;34m)\u001b[0m\u001b[0;34m\u001b[0m\u001b[0;34m\u001b[0m\u001b[0m\n",
            "\u001b[0;31mTypeError\u001b[0m: 'int' object is not iterable"
          ]
        }
      ]
    },
    {
      "cell_type": "code",
      "source": [
        "t = (1, 2,3)\n",
        "dir(t)"
      ],
      "metadata": {
        "colab": {
          "base_uri": "https://localhost:8080/"
        },
        "id": "YLZdL8X5DJcE",
        "outputId": "a5372270-db5e-480a-fdfa-cdb5cead5816"
      },
      "execution_count": 5,
      "outputs": [
        {
          "output_type": "execute_result",
          "data": {
            "text/plain": [
              "['__add__',\n",
              " '__class__',\n",
              " '__class_getitem__',\n",
              " '__contains__',\n",
              " '__delattr__',\n",
              " '__dir__',\n",
              " '__doc__',\n",
              " '__eq__',\n",
              " '__format__',\n",
              " '__ge__',\n",
              " '__getattribute__',\n",
              " '__getitem__',\n",
              " '__getnewargs__',\n",
              " '__gt__',\n",
              " '__hash__',\n",
              " '__init__',\n",
              " '__init_subclass__',\n",
              " '__iter__',\n",
              " '__le__',\n",
              " '__len__',\n",
              " '__lt__',\n",
              " '__mul__',\n",
              " '__ne__',\n",
              " '__new__',\n",
              " '__reduce__',\n",
              " '__reduce_ex__',\n",
              " '__repr__',\n",
              " '__rmul__',\n",
              " '__setattr__',\n",
              " '__sizeof__',\n",
              " '__str__',\n",
              " '__subclasshook__',\n",
              " 'count',\n",
              " 'index']"
            ]
          },
          "metadata": {},
          "execution_count": 5
        }
      ]
    },
    {
      "cell_type": "code",
      "source": [
        "# How to check whether a function has an Iterator or not (next)\n",
        "L = [1, 2, 3]\n",
        "\n",
        "# L is not an iterator\n",
        "dir(L)\n",
        "dir(iter(L)) # This proves this pice of code is an Iterator."
      ],
      "metadata": {
        "colab": {
          "base_uri": "https://localhost:8080/"
        },
        "id": "SxMDOEAZDcCD",
        "outputId": "ca1c6f51-bc52-4477-ab44-9a425666244a"
      },
      "execution_count": 8,
      "outputs": [
        {
          "output_type": "execute_result",
          "data": {
            "text/plain": [
              "['__class__',\n",
              " '__delattr__',\n",
              " '__dir__',\n",
              " '__doc__',\n",
              " '__eq__',\n",
              " '__format__',\n",
              " '__ge__',\n",
              " '__getattribute__',\n",
              " '__gt__',\n",
              " '__hash__',\n",
              " '__init__',\n",
              " '__init_subclass__',\n",
              " '__iter__',\n",
              " '__le__',\n",
              " '__length_hint__',\n",
              " '__lt__',\n",
              " '__ne__',\n",
              " '__new__',\n",
              " '__next__',\n",
              " '__reduce__',\n",
              " '__reduce_ex__',\n",
              " '__repr__',\n",
              " '__setattr__',\n",
              " '__setstate__',\n",
              " '__sizeof__',\n",
              " '__str__',\n",
              " '__subclasshook__']"
            ]
          },
          "metadata": {},
          "execution_count": 8
        }
      ]
    },
    {
      "cell_type": "markdown",
      "source": [
        "## Understanding how for loop works"
      ],
      "metadata": {
        "id": "ioH4iCgmElhN"
      }
    },
    {
      "cell_type": "code",
      "source": [
        "num = [1, 2, 3]\n",
        "for i in num:\n",
        "  print(i)"
      ],
      "metadata": {
        "colab": {
          "base_uri": "https://localhost:8080/"
        },
        "id": "eHMtnmxAEBns",
        "outputId": "819e9f94-ad04-4174-aff3-24ab6a136f3f"
      },
      "execution_count": 9,
      "outputs": [
        {
          "output_type": "stream",
          "name": "stdout",
          "text": [
            "1\n",
            "2\n",
            "3\n"
          ]
        }
      ]
    },
    {
      "cell_type": "code",
      "source": [
        "num = [1, 2, 3] # First thing first you should have a Iterator(Jiske uper loop chala sakte ho)\n",
        "# Fetch the iterator\n",
        "# using the Iter function\n",
        "iter_num = iter(num)\n",
        "\n",
        "# Step -2 ---> next\n",
        "next(iter_num)\n",
        "next(iter_num)\n",
        "next(iter_num)\n",
        "next(iter_num)"
      ],
      "metadata": {
        "colab": {
          "base_uri": "https://localhost:8080/",
          "height": 180
        },
        "id": "FQztIqExE-1W",
        "outputId": "83382395-d7b9-41eb-ab13-1706d34b15b5"
      },
      "execution_count": 10,
      "outputs": [
        {
          "output_type": "error",
          "ename": "StopIteration",
          "evalue": "",
          "traceback": [
            "\u001b[0;31m---------------------------------------------------------------------------\u001b[0m",
            "\u001b[0;31mStopIteration\u001b[0m                             Traceback (most recent call last)",
            "\u001b[0;32m<ipython-input-10-ef5fe4b3aee1>\u001b[0m in \u001b[0;36m<cell line: 10>\u001b[0;34m()\u001b[0m\n\u001b[1;32m      8\u001b[0m \u001b[0mnext\u001b[0m\u001b[0;34m(\u001b[0m\u001b[0miter_num\u001b[0m\u001b[0;34m)\u001b[0m\u001b[0;34m\u001b[0m\u001b[0;34m\u001b[0m\u001b[0m\n\u001b[1;32m      9\u001b[0m \u001b[0mnext\u001b[0m\u001b[0;34m(\u001b[0m\u001b[0miter_num\u001b[0m\u001b[0;34m)\u001b[0m\u001b[0;34m\u001b[0m\u001b[0;34m\u001b[0m\u001b[0m\n\u001b[0;32m---> 10\u001b[0;31m \u001b[0mnext\u001b[0m\u001b[0;34m(\u001b[0m\u001b[0miter_num\u001b[0m\u001b[0;34m)\u001b[0m\u001b[0;34m\u001b[0m\u001b[0;34m\u001b[0m\u001b[0m\n\u001b[0m",
            "\u001b[0;31mStopIteration\u001b[0m: "
          ]
        }
      ]
    },
    {
      "cell_type": "markdown",
      "source": [
        "# Making our own for loop"
      ],
      "metadata": {
        "id": "QTUAvQPkF46K"
      }
    },
    {
      "cell_type": "code",
      "source": [
        "def mera_khud_ka_foor_loop(iterable):\n",
        "  iterator = iter(iterable)\n",
        "\n",
        "  while True:\n",
        "    try:\n",
        "      print(next(iterator))\n",
        "    except StopIteration:\n",
        "      break"
      ],
      "metadata": {
        "id": "RyPokYF2E-_S"
      },
      "execution_count": 14,
      "outputs": []
    },
    {
      "cell_type": "code",
      "source": [
        "a = [1, 2, 3]\n",
        "b = range(1, 11)\n",
        "c = (1, 2,3)\n",
        "d = {1:1, 2:3}\n",
        "e = {1, 2, 3}\n",
        "mera_khud_ka_foor_loop(a)"
      ],
      "metadata": {
        "colab": {
          "base_uri": "https://localhost:8080/"
        },
        "id": "trBiTPU0GTR8",
        "outputId": "8a66a8b9-9ff6-4c4c-ffdd-5fd61cc5dfcf"
      },
      "execution_count": 15,
      "outputs": [
        {
          "output_type": "stream",
          "name": "stdout",
          "text": [
            "1\n",
            "2\n",
            "3\n"
          ]
        }
      ]
    },
    {
      "cell_type": "markdown",
      "source": [
        "## A confusing point"
      ],
      "metadata": {
        "id": "MuCATV2AEqCX"
      }
    },
    {
      "cell_type": "code",
      "source": [
        "num = [1, 2, 3]\n",
        "iter_obj = iter(num)\n",
        "print(id(iter_obj), \"Address of Iterator 1\")\n",
        "\n",
        "iter_obj2 = iter(iter_obj)\n",
        "print(id(iter_obj2), \"Address of Iterator 2\")"
      ],
      "metadata": {
        "colab": {
          "base_uri": "https://localhost:8080/"
        },
        "id": "utO-B6bMEssf",
        "outputId": "303b707f-caa9-4db2-dcb1-13753c1fe7ee"
      },
      "execution_count": 19,
      "outputs": [
        {
          "output_type": "stream",
          "name": "stdout",
          "text": [
            "132649163035824 Address of Iterator 1\n",
            "132649163035824 Address of Iterator 2\n"
          ]
        }
      ]
    },
    {
      "cell_type": "markdown",
      "source": [
        "## Let's create our own range() function"
      ],
      "metadata": {
        "id": "zm7q7OHqH5jv"
      }
    },
    {
      "cell_type": "code",
      "source": [
        "class mera_range:\n",
        "  def __init__(self, start, end):\n",
        "    self.start = start\n",
        "    self.end = end\n",
        "\n",
        "  def __iter__(self):\n",
        "    return mera_range_iterator(self)\n",
        "\n",
        "class mera_range_iterator:\n",
        "  def __init__(self, iterable_obj):\n",
        "    self.iterable = iterable_obj\n",
        "\n",
        "  def __iter__(self):\n",
        "    return self\n",
        "\n",
        "  def __next__(self):\n",
        "    if self.iterable.start >= self.iterable.end:\n",
        "      raise StopIteration\n",
        "    current = self.iterable.start\n",
        "    self.iterable.start += 1\n",
        "    return current"
      ],
      "metadata": {
        "id": "wmhq3r8GH4z5"
      },
      "execution_count": null,
      "outputs": []
    },
    {
      "cell_type": "code",
      "source": [
        "def mera_generator():\n",
        "  yield 'First statement'\n",
        "  yield 'second statement'\n",
        "  yield 'Third statement'"
      ],
      "metadata": {
        "id": "67l1yJ7dHJyB"
      },
      "execution_count": 1,
      "outputs": []
    },
    {
      "cell_type": "code",
      "source": [
        "obj = mera_generator()\n",
        "print(next(obj))\n",
        "print(next(obj))\n",
        "print(next(obj))"
      ],
      "metadata": {
        "colab": {
          "base_uri": "https://localhost:8080/"
        },
        "id": "OQN1Qcm6kqdP",
        "outputId": "3d12e324-5560-48c5-ac5e-dffb110a8af3"
      },
      "execution_count": 2,
      "outputs": [
        {
          "output_type": "stream",
          "name": "stdout",
          "text": [
            "First statement\n",
            "second statement\n",
            "Third statement\n"
          ]
        }
      ]
    },
    {
      "cell_type": "markdown",
      "source": [
        "Generators don't have return statements instead of return statements they use yield\n",
        "Generator is a function whihch returns a generator object using next function you can print what is inside the generator object."
      ],
      "metadata": {
        "id": "eoDcKThlkzvs"
      }
    },
    {
      "cell_type": "markdown",
      "source": [
        "## Example"
      ],
      "metadata": {
        "id": "xN5GUSi7mueu"
      }
    },
    {
      "cell_type": "code",
      "source": [
        "def square(num):\n",
        "  for i in range(1, num+1):\n",
        "    yield i**2\n",
        ""
      ],
      "metadata": {
        "id": "o9aGc5kGkvj4"
      },
      "execution_count": 3,
      "outputs": []
    },
    {
      "cell_type": "code",
      "source": [
        "gen = square(10)\n",
        "print(next(gen))\n",
        "print(next(gen))\n",
        "print(next(gen))\n",
        "for i in gen:\n",
        "  print(i)"
      ],
      "metadata": {
        "colab": {
          "base_uri": "https://localhost:8080/"
        },
        "id": "ckNNW-02m9ls",
        "outputId": "1c344dfa-3d61-4687-add1-370e440b31c1"
      },
      "execution_count": 6,
      "outputs": [
        {
          "output_type": "stream",
          "name": "stdout",
          "text": [
            "1\n",
            "4\n",
            "9\n",
            "16\n",
            "25\n",
            "36\n",
            "49\n",
            "64\n",
            "81\n",
            "100\n"
          ]
        }
      ]
    },
    {
      "cell_type": "markdown",
      "source": [
        "## Range function using generators"
      ],
      "metadata": {
        "id": "Q5iwBsFPnSwH"
      }
    },
    {
      "cell_type": "code",
      "source": [
        "def mera_range(start, end):\n",
        "  for i in range(start, end):\n",
        "    yield i"
      ],
      "metadata": {
        "id": "f8GLymxxnSJa"
      },
      "execution_count": 7,
      "outputs": []
    },
    {
      "cell_type": "code",
      "source": [
        "gen = mera_range(15, 20)\n",
        "\n",
        "for i in gen:\n",
        "  print(i)"
      ],
      "metadata": {
        "colab": {
          "base_uri": "https://localhost:8080/"
        },
        "id": "k9i7sEwZnA07",
        "outputId": "36e70db3-a8e9-419e-baa3-8565e16e717e"
      },
      "execution_count": 8,
      "outputs": [
        {
          "output_type": "stream",
          "name": "stdout",
          "text": [
            "15\n",
            "16\n",
            "17\n",
            "18\n",
            "19\n"
          ]
        }
      ]
    },
    {
      "cell_type": "code",
      "source": [],
      "metadata": {
        "id": "ktDn6Adjnm5Y"
      },
      "execution_count": null,
      "outputs": []
    }
  ]
}