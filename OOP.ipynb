{
  "nbformat": 4,
  "nbformat_minor": 0,
  "metadata": {
    "colab": {
      "provenance": [],
      "authorship_tag": "ABX9TyOpH7iaygWbAPGESGRqjuQe",
      "include_colab_link": true
    },
    "kernelspec": {
      "name": "python3",
      "display_name": "Python 3"
    },
    "language_info": {
      "name": "python"
    }
  },
  "cells": [
    {
      "cell_type": "markdown",
      "metadata": {
        "id": "view-in-github",
        "colab_type": "text"
      },
      "source": [
        "<a href=\"https://colab.research.google.com/github/maushamkumar/Python/blob/main/OOP.ipynb\" target=\"_parent\"><img src=\"https://colab.research.google.com/assets/colab-badge.svg\" alt=\"Open In Colab\"/></a>"
      ]
    },
    {
      "cell_type": "markdown",
      "source": [
        "# Class Relationships\n",
        "* Aggregation\n",
        "* Inheritance"
      ],
      "metadata": {
        "id": "HKOkL516L6af"
      }
    },
    {
      "cell_type": "markdown",
      "source": [
        "## Aggregation (has a relationship ) one class owns the other class\n",
        "One class will be the owner of the class and the other class will be the property of the owner class\n",
        "* we can not access private attributes while performing aggregation"
      ],
      "metadata": {
        "id": "VjDIIBVXMETI"
      }
    },
    {
      "cell_type": "code",
      "source": [
        "class customer:\n",
        "  def __init__(self, name, gender, address):\n",
        "    self.name = name\n",
        "    self.gender = gender\n",
        "    self.address = address\n",
        "\n",
        "  def print_address(self):\n",
        "    print(self.address.city, self.address.pin, self.address.state)\n",
        "\n",
        "class Address:\n",
        "  def __init__(self,  city, pin, state):\n",
        "    self.pin = pin\n",
        "    self.city = city\n",
        "    self.state = state\n",
        "\n",
        "add1 = Address(\"Lakhisari\", 811310, \"Bihar\")\n",
        "cust = customer(\"Mausham\", 'Male', add1 )"
      ],
      "metadata": {
        "id": "vpVYptPu3Ods"
      },
      "execution_count": 81,
      "outputs": []
    },
    {
      "cell_type": "code",
      "source": [
        "cust.print_address()"
      ],
      "metadata": {
        "id": "SIaUTbfpOA_s",
        "outputId": "bf13feef-05be-43d0-fc65-b8992de9ebe2",
        "colab": {
          "base_uri": "https://localhost:8080/"
        }
      },
      "execution_count": 85,
      "outputs": [
        {
          "output_type": "stream",
          "name": "stdout",
          "text": [
            "Lakhisari 811310 Bihar\n"
          ]
        }
      ]
    },
    {
      "cell_type": "code",
      "source": [
        "class customer:\n",
        "  def __init__(self, name, gender, address):\n",
        "    self.name = name\n",
        "    self.gender = gender\n",
        "    self.address = address\n",
        "\n",
        "  def print_address(self):\n",
        "    print(self.address.get_city(), self.address.pin, self.address.state)\n",
        "\n",
        "# what if I private the pin\n",
        "class Address:\n",
        "  def __init__(self,  city, pin, state):\n",
        "    self.__pin = pin\n",
        "    self.city = city\n",
        "    self.state = state\n",
        "\n",
        "  def get_city(self):\n",
        "    return self.__city\n",
        "\n",
        "add1 = Address(\"Lakhisari\", 811310, \"Bihar\")\n",
        "cust = customer(\"Mausham\", 'Male', add1 )"
      ],
      "metadata": {
        "id": "6qT4Lv2eOFY6"
      },
      "execution_count": null,
      "outputs": []
    },
    {
      "cell_type": "code",
      "source": [
        "class customer:\n",
        "  def __init__(self, name, gender, address):\n",
        "    self.name = name\n",
        "    self.gender = gender\n",
        "    self.address = address\n",
        "\n",
        "  def print_address(self):\n",
        "    print(self.address.get_city(), self.address.pin, self.address.state)\n",
        "\n",
        "  def edit_profile(self, new_name, new_city, new_pin, new_state):\n",
        "    self.name = new_name\n",
        "    self.address.edit_address(new_city, new_pin, new_state)\n",
        "\n",
        "# what if I private the pin\n",
        "class Address:\n",
        "  def __init__(self,  city, pin, state):\n",
        "    self.pin = pin\n",
        "    self.__city = city\n",
        "    self.state = state\n",
        "\n",
        "  def get_city(self):\n",
        "    return self.__city\n",
        "\n",
        "  def edit_address(self, new_city, new_pin, new_state):\n",
        "    self.__city = new_city\n",
        "    self.pin = new_pin\n",
        "    self.state = new_state\n",
        "\n",
        "\n",
        "\n",
        "add1 = Address(\"Lakhisari\", 811310, \"Bihar\")\n",
        "cust = customer(\"Mausham\", 'Male', add1 )\n",
        "cust.print_address()\n",
        "cust.edit_profile(\"Mausham\", \"Lakhisari\", 811310, \"Bihar\")\n",
        "cust.print_address()"
      ],
      "metadata": {
        "id": "c8aBj9LSQOUv",
        "outputId": "777ca1e5-6550-4dcd-a9ab-2fd623b8b89b",
        "colab": {
          "base_uri": "https://localhost:8080/"
        }
      },
      "execution_count": 89,
      "outputs": [
        {
          "output_type": "stream",
          "name": "stdout",
          "text": [
            "Lakhisari 811310 Bihar\n",
            "Lakhisari 811310 Bihar\n"
          ]
        }
      ]
    },
    {
      "cell_type": "markdown",
      "source": [
        "# Aggregation class diagram"
      ],
      "metadata": {
        "id": "PET21BBjR-p_"
      }
    },
    {
      "cell_type": "markdown",
      "source": [
        "# Inheritance\n",
        "* What is inheritance?\n",
        "* Example\n",
        "* What gets inherited?\n",
        "What is the biggest benefit of using inheritance?\n",
        "-> Reusablity"
      ],
      "metadata": {
        "id": "KUDRAa1jTujr"
      }
    },
    {
      "cell_type": "code",
      "source": [
        "# Example\n",
        "class user:\n",
        "  def __init__(self):\n",
        "    self.name = \"Mausham\"\n",
        "\n",
        "  def login(self):\n",
        "    print(\"login\")\n",
        "\n",
        "class Student(user): # This child class not only allowed to access the methods of the student class but also the parent class methods\n",
        "\n",
        "  def enroll(self):\n",
        "    print(\"enroll\")\n",
        "\n",
        "class Instructor(user):\n",
        "\n",
        "  def teach(self):\n",
        "    print(\"teach\")\n",
        "u = user()\n",
        "s = Student()\n",
        "i = Instructor()\n",
        "\n",
        "print(s.name)"
      ],
      "metadata": {
        "id": "wP2nUBpRRNmM",
        "outputId": "00f9002f-4201-4c99-fee8-b6028dca0b1c",
        "colab": {
          "base_uri": "https://localhost:8080/"
        }
      },
      "execution_count": 92,
      "outputs": [
        {
          "output_type": "stream",
          "name": "stdout",
          "text": [
            "Mausham\n"
          ]
        }
      ]
    },
    {
      "cell_type": "markdown",
      "source": [
        "## What gets inherited?\n",
        "* Constructor\n",
        "* Non Private Attributes\n",
        "* non Private Methods"
      ],
      "metadata": {
        "id": "bgHVHOaZaHdg"
      }
    },
    {
      "cell_type": "markdown",
      "source": [
        "If the child class don't have any constructor then it will call the parent class constructor"
      ],
      "metadata": {
        "id": "CkG7mMMhbXtS"
      }
    },
    {
      "cell_type": "code",
      "source": [
        "# Constructor example\n",
        "class phone:\n",
        "  def __init__(self, price, brand, camera):\n",
        "    print(\"Inside phone constructor\")\n",
        "    self.price = price\n",
        "    self.brand = brand\n",
        "    self.camera = camera\n",
        "\n",
        "  def buy (self):\n",
        "    print(\"Buying a phone\")\n",
        "\n",
        "class SmartPhone(phone):\n",
        "  pass\n",
        "\n",
        "s = SmartPhone(10000, \"Apple\", 12)\n",
        "s.buy()"
      ],
      "metadata": {
        "id": "UwWaPPrrYIpn",
        "outputId": "86916945-c959-4b11-bcc8-5f7f04000d4f",
        "colab": {
          "base_uri": "https://localhost:8080/"
        }
      },
      "execution_count": 94,
      "outputs": [
        {
          "output_type": "stream",
          "name": "stdout",
          "text": [
            "Inside phone constructor\n",
            "Buying a phone\n"
          ]
        }
      ]
    },
    {
      "cell_type": "code",
      "source": [
        "class phone:\n",
        "  def __init__(self, price, brand, camera):\n",
        "    print(\"Inside phone constructor\")\n",
        "    self.price = price\n",
        "    self.brand = brand\n",
        "    self.camera = camera\n",
        "\n",
        "  def buy (self):\n",
        "    print(\"Buying a phone\")\n",
        "\n",
        "\n",
        "class SmartPhone(phone):\n",
        "  def __init__(self, os, ram):\n",
        "    self.os = os\n",
        "    self.ram = ram\n",
        "    print(\"Inside Samrtphone constructor\")\n",
        "\n",
        "  def buy(self):\n",
        "    print(\"Buying a SmartPhone\")\n",
        "\n",
        "s = SmartPhone(\"Android\", 4)"
      ],
      "metadata": {
        "id": "Q4kuJ35tbnVf",
        "outputId": "1a63f3c2-699f-46f0-80b4-cddda74cdaf2",
        "colab": {
          "base_uri": "https://localhost:8080/"
        }
      },
      "execution_count": 95,
      "outputs": [
        {
          "output_type": "stream",
          "name": "stdout",
          "text": [
            "Inside Samrtphone constructor\n"
          ]
        }
      ]
    },
    {
      "cell_type": "markdown",
      "source": [
        "When a child has their own constructor then the parent constructor is not called\n",
        "If the parent constructor is called then the attribute value is not initialised of the parent class. when we try to access the attribute value then it will give an error"
      ],
      "metadata": {
        "id": "R2xjxTs1cW01"
      }
    },
    {
      "cell_type": "code",
      "source": [
        "# Child can't access private members of the class\n",
        "class phone:\n",
        "  def __init__(self, price, brand, camera):\n",
        "    print(\"Inside phone constructor\")\n",
        "    self.__price = price\n",
        "    self.brand = brand\n",
        "    self.camera = camera\n",
        "\n",
        "  def buy (self):\n",
        "    print(\"Buying a phone\")\n",
        "\n",
        "class SamrtPhone(phone):\n",
        "  def check(self):\n",
        "    print(self.__price)\n",
        "\n",
        "s = SamrtPhone(10000, \"Apple\", 12)\n",
        "s.check()"
      ],
      "metadata": {
        "id": "_o3GdES4cOEe",
        "outputId": "0b218903-a7f5-47ab-c962-04ac2bf46024",
        "colab": {
          "base_uri": "https://localhost:8080/",
          "height": 315
        }
      },
      "execution_count": 96,
      "outputs": [
        {
          "output_type": "stream",
          "name": "stdout",
          "text": [
            "Inside phone constructor\n"
          ]
        },
        {
          "output_type": "error",
          "ename": "AttributeError",
          "evalue": "'SamrtPhone' object has no attribute '_SamrtPhone__price'",
          "traceback": [
            "\u001b[0;31m---------------------------------------------------------------------------\u001b[0m",
            "\u001b[0;31mAttributeError\u001b[0m                            Traceback (most recent call last)",
            "\u001b[0;32m<ipython-input-96-81ea2c4a6bed>\u001b[0m in \u001b[0;36m<cell line: 17>\u001b[0;34m()\u001b[0m\n\u001b[1;32m     15\u001b[0m \u001b[0;34m\u001b[0m\u001b[0m\n\u001b[1;32m     16\u001b[0m \u001b[0ms\u001b[0m \u001b[0;34m=\u001b[0m \u001b[0mSamrtPhone\u001b[0m\u001b[0;34m(\u001b[0m\u001b[0;36m10000\u001b[0m\u001b[0;34m,\u001b[0m \u001b[0;34m\"Apple\"\u001b[0m\u001b[0;34m,\u001b[0m \u001b[0;36m12\u001b[0m\u001b[0;34m)\u001b[0m\u001b[0;34m\u001b[0m\u001b[0;34m\u001b[0m\u001b[0m\n\u001b[0;32m---> 17\u001b[0;31m \u001b[0ms\u001b[0m\u001b[0;34m.\u001b[0m\u001b[0mcheck\u001b[0m\u001b[0;34m(\u001b[0m\u001b[0;34m)\u001b[0m\u001b[0;34m\u001b[0m\u001b[0;34m\u001b[0m\u001b[0m\n\u001b[0m",
            "\u001b[0;32m<ipython-input-96-81ea2c4a6bed>\u001b[0m in \u001b[0;36mcheck\u001b[0;34m(self)\u001b[0m\n\u001b[1;32m     12\u001b[0m \u001b[0;32mclass\u001b[0m \u001b[0mSamrtPhone\u001b[0m\u001b[0;34m(\u001b[0m\u001b[0mphone\u001b[0m\u001b[0;34m)\u001b[0m\u001b[0;34m:\u001b[0m\u001b[0;34m\u001b[0m\u001b[0;34m\u001b[0m\u001b[0m\n\u001b[1;32m     13\u001b[0m   \u001b[0;32mdef\u001b[0m \u001b[0mcheck\u001b[0m\u001b[0;34m(\u001b[0m\u001b[0mself\u001b[0m\u001b[0;34m)\u001b[0m\u001b[0;34m:\u001b[0m\u001b[0;34m\u001b[0m\u001b[0;34m\u001b[0m\u001b[0m\n\u001b[0;32m---> 14\u001b[0;31m     \u001b[0mprint\u001b[0m\u001b[0;34m(\u001b[0m\u001b[0mself\u001b[0m\u001b[0;34m.\u001b[0m\u001b[0m__price\u001b[0m\u001b[0;34m)\u001b[0m\u001b[0;34m\u001b[0m\u001b[0;34m\u001b[0m\u001b[0m\n\u001b[0m\u001b[1;32m     15\u001b[0m \u001b[0;34m\u001b[0m\u001b[0m\n\u001b[1;32m     16\u001b[0m \u001b[0ms\u001b[0m \u001b[0;34m=\u001b[0m \u001b[0mSamrtPhone\u001b[0m\u001b[0;34m(\u001b[0m\u001b[0;36m10000\u001b[0m\u001b[0;34m,\u001b[0m \u001b[0;34m\"Apple\"\u001b[0m\u001b[0;34m,\u001b[0m \u001b[0;36m12\u001b[0m\u001b[0;34m)\u001b[0m\u001b[0;34m\u001b[0m\u001b[0;34m\u001b[0m\u001b[0m\n",
            "\u001b[0;31mAttributeError\u001b[0m: 'SamrtPhone' object has no attribute '_SamrtPhone__price'"
          ]
        }
      ]
    },
    {
      "cell_type": "code",
      "source": [
        "# Accessing parent private Attribute with getter method\n",
        "class parent:\n",
        "  def __init__(self, num):\n",
        "    self.__num = num\n",
        "\n",
        "  def get_num(self):\n",
        "      return self.__num\n",
        "\n",
        "class Child(parent):\n",
        "  def show(self):\n",
        "    print(\"This is in child class \")\n",
        "\n",
        "son = Child(10)\n",
        "print(son.get_num())\n",
        "son.show()"
      ],
      "metadata": {
        "id": "fknGEiL3di8M",
        "outputId": "78ccb837-fff1-4042-e966-4a63753441ab",
        "colab": {
          "base_uri": "https://localhost:8080/"
        }
      },
      "execution_count": 99,
      "outputs": [
        {
          "output_type": "stream",
          "name": "stdout",
          "text": [
            "10\n",
            "This is in child class \n"
          ]
        }
      ]
    },
    {
      "cell_type": "code",
      "source": [
        "# If a child has a constructor, the parent constructor not called\n",
        "class parent:\n",
        "  def __init__(self, num):\n",
        "    self.__num = num\n",
        "\n",
        "  def get_num(self):\n",
        "    return self.__num\n",
        "\n",
        "class Child(parent):\n",
        "  def __init__(self, val, num):\n",
        "    self.__val = val\n",
        "\n",
        "  def get_val(self):\n",
        "    return self.__val\n",
        "\n",
        "son = Child(10, 20)\n",
        "print(son.get_val())\n",
        "print(son.get_num())"
      ],
      "metadata": {
        "id": "5fHf4O6sezA2",
        "outputId": "710d4836-e3e4-45cd-fede-243b41f4a282",
        "colab": {
          "base_uri": "https://localhost:8080/",
          "height": 315
        }
      },
      "execution_count": 100,
      "outputs": [
        {
          "output_type": "stream",
          "name": "stdout",
          "text": [
            "10\n"
          ]
        },
        {
          "output_type": "error",
          "ename": "AttributeError",
          "evalue": "'Child' object has no attribute '_parent__num'",
          "traceback": [
            "\u001b[0;31m---------------------------------------------------------------------------\u001b[0m",
            "\u001b[0;31mAttributeError\u001b[0m                            Traceback (most recent call last)",
            "\u001b[0;32m<ipython-input-100-cfde9942b26e>\u001b[0m in \u001b[0;36m<cell line: 18>\u001b[0;34m()\u001b[0m\n\u001b[1;32m     16\u001b[0m \u001b[0mson\u001b[0m \u001b[0;34m=\u001b[0m \u001b[0mChild\u001b[0m\u001b[0;34m(\u001b[0m\u001b[0;36m10\u001b[0m\u001b[0;34m,\u001b[0m \u001b[0;36m20\u001b[0m\u001b[0;34m)\u001b[0m\u001b[0;34m\u001b[0m\u001b[0;34m\u001b[0m\u001b[0m\n\u001b[1;32m     17\u001b[0m \u001b[0mprint\u001b[0m\u001b[0;34m(\u001b[0m\u001b[0mson\u001b[0m\u001b[0;34m.\u001b[0m\u001b[0mget_val\u001b[0m\u001b[0;34m(\u001b[0m\u001b[0;34m)\u001b[0m\u001b[0;34m)\u001b[0m\u001b[0;34m\u001b[0m\u001b[0;34m\u001b[0m\u001b[0m\n\u001b[0;32m---> 18\u001b[0;31m \u001b[0mprint\u001b[0m\u001b[0;34m(\u001b[0m\u001b[0mson\u001b[0m\u001b[0;34m.\u001b[0m\u001b[0mget_num\u001b[0m\u001b[0;34m(\u001b[0m\u001b[0;34m)\u001b[0m\u001b[0;34m)\u001b[0m\u001b[0;34m\u001b[0m\u001b[0;34m\u001b[0m\u001b[0m\n\u001b[0m",
            "\u001b[0;32m<ipython-input-100-cfde9942b26e>\u001b[0m in \u001b[0;36mget_num\u001b[0;34m(self)\u001b[0m\n\u001b[1;32m      5\u001b[0m \u001b[0;34m\u001b[0m\u001b[0m\n\u001b[1;32m      6\u001b[0m   \u001b[0;32mdef\u001b[0m \u001b[0mget_num\u001b[0m\u001b[0;34m(\u001b[0m\u001b[0mself\u001b[0m\u001b[0;34m)\u001b[0m\u001b[0;34m:\u001b[0m\u001b[0;34m\u001b[0m\u001b[0;34m\u001b[0m\u001b[0m\n\u001b[0;32m----> 7\u001b[0;31m     \u001b[0;32mreturn\u001b[0m \u001b[0mself\u001b[0m\u001b[0;34m.\u001b[0m\u001b[0m__num\u001b[0m\u001b[0;34m\u001b[0m\u001b[0;34m\u001b[0m\u001b[0m\n\u001b[0m\u001b[1;32m      8\u001b[0m \u001b[0;34m\u001b[0m\u001b[0m\n\u001b[1;32m      9\u001b[0m \u001b[0;32mclass\u001b[0m \u001b[0mChild\u001b[0m\u001b[0;34m(\u001b[0m\u001b[0mparent\u001b[0m\u001b[0;34m)\u001b[0m\u001b[0;34m:\u001b[0m\u001b[0;34m\u001b[0m\u001b[0;34m\u001b[0m\u001b[0m\n",
            "\u001b[0;31mAttributeError\u001b[0m: 'Child' object has no attribute '_parent__num'"
          ]
        }
      ]
    },
    {
      "cell_type": "code",
      "source": [
        "# If child don't have constructor, the parent constructor is called\n",
        "class A:\n",
        "  def __init__(self):\n",
        "    self.var1 = 100\n",
        "\n",
        "  def display(self, var1):\n",
        "    print(\"Class A: \", self.var1)\n",
        "\n",
        "class B(A):\n",
        "  def display1(self, var1):\n",
        "    print(\"Class B: \", self.var1)\n",
        "\n",
        "b = B()\n",
        "b.display(200)"
      ],
      "metadata": {
        "id": "LxTIxMIogD3G",
        "outputId": "6f8c3d8d-f86d-4edf-873f-3a4dc6faeee9",
        "colab": {
          "base_uri": "https://localhost:8080/"
        }
      },
      "execution_count": 101,
      "outputs": [
        {
          "output_type": "stream",
          "name": "stdout",
          "text": [
            "Class A:  100\n"
          ]
        }
      ]
    },
    {
      "cell_type": "markdown",
      "source": [
        "If child class and parent class both have same method then child class method will be executed."
      ],
      "metadata": {
        "id": "6pgGe0TWlUeV"
      }
    },
    {
      "cell_type": "code",
      "source": [
        "# Method Overriding\n",
        "class phone:\n",
        "  def __init__(self, price, brand, camera):\n",
        "    print(\"Inside phone constructor\")\n",
        "    self.price = price\n",
        "    self.brand = brand\n",
        "    self.camera = camera\n",
        "\n",
        "  def buy (self):\n",
        "    print(\"Buying a phone\")\n",
        "\n",
        "class SamrtPhone(phone):\n",
        "\n",
        "  def buy(self):\n",
        "    print(\"Buying a SmartPhone\")\n",
        "\n",
        "s = SamrtPhone(10000, \"Apple\", 12)\n",
        "s.buy()"
      ],
      "metadata": {
        "id": "2vMihh5iglAy",
        "outputId": "2e89fb9f-32da-46cd-c38f-ede30e255406",
        "colab": {
          "base_uri": "https://localhost:8080/"
        }
      },
      "execution_count": 102,
      "outputs": [
        {
          "output_type": "stream",
          "name": "stdout",
          "text": [
            "Inside phone constructor\n",
            "Buying a SmartPhone\n"
          ]
        }
      ]
    },
    {
      "cell_type": "markdown",
      "source": [
        "# Super keyword\n",
        "Using super keyword you can call the parent attributes and methods."
      ],
      "metadata": {
        "id": "_7fX8EXWlntv"
      }
    },
    {
      "cell_type": "code",
      "source": [
        "class phone:\n",
        "  def __init__(self, price, brand, camera):\n",
        "    print(\"Inside phone constructor\")\n",
        "    self.price = price\n",
        "    self.brand = brand\n",
        "    self.camera = camera\n",
        "\n",
        "  def buy (self):\n",
        "    print(\"Buying a phone\")\n",
        "\n",
        "class SamrtPhone(phone):\n",
        "\n",
        "  def buy(self):\n",
        "    print(\"Buying a SmartPhone\")\n",
        "    # Syntac to call the parent class method\n",
        "    super().buy()\n",
        "\n",
        "s = SamrtPhone(10000, \"Apple\", 12)\n",
        "s.buy()"
      ],
      "metadata": {
        "id": "kDrZqPpMlHa4",
        "outputId": "a766bb32-88fc-4f59-c123-f3853446979c",
        "colab": {
          "base_uri": "https://localhost:8080/"
        }
      },
      "execution_count": 104,
      "outputs": [
        {
          "output_type": "stream",
          "name": "stdout",
          "text": [
            "Inside phone constructor\n",
            "Buying a SmartPhone\n",
            "Buying a phone\n"
          ]
        }
      ]
    },
    {
      "cell_type": "code",
      "source": [
        "# super -> constructor\n",
        "class phone:\n",
        "  def __init__(self, price, brand, camera):\n",
        "    print(\"Inside phone constructor\")\n",
        "    self.__price = price\n",
        "    self.brand = brand\n",
        "    self.camera = camera\n",
        "\n",
        "\n",
        "class SmartPhone(phone):\n",
        "  def __init__(self, os, ram, price, brand, camera):\n",
        "    super().__init__(price, brand, camera)\n",
        "    self.os = os\n",
        "    self.ram = ram\n",
        "    print(\"Inside SmartPhone constructor\")\n",
        "\n",
        "\n",
        "s = SmartPhone(\"Android\", 4, 10000, \"Apple\", 12)\n",
        "print(s.os)\n",
        "print(s.brand)\n"
      ],
      "metadata": {
        "id": "OSznOy_Gl3oq",
        "outputId": "71d69bd4-ce13-43ae-ad8f-74d3512871da",
        "colab": {
          "base_uri": "https://localhost:8080/"
        }
      },
      "execution_count": 105,
      "outputs": [
        {
          "output_type": "stream",
          "name": "stdout",
          "text": [
            "Inside phone constructor\n",
            "Inside SmartPhone constructor\n",
            "Android\n",
            "Apple\n"
          ]
        }
      ]
    },
    {
      "cell_type": "markdown",
      "source": [
        "Using super we can't access attributes that are not inherited\n",
        "* Super can not access variable\n",
        "* super can not be used outside of the class\n",
        "* super is used inside the child class\n",
        "\n",
        "# Inheritance in summary\n",
        "* A class can inherit from another class\n",
        "* Inheritance improves code reuse\n",
        "* Constructor, attributes, methods get inherited to the child class\n",
        "* The parent has no access to the child class\n",
        "* Private properties of parent are not accessible directly in child class\n",
        "* Child class can override the attribute or method. This is called method overriding\n",
        "* Super() is an inbuilt function which is used to invoke the parent class and constructor"
      ],
      "metadata": {
        "id": "vv2F0D8Fn9iX"
      }
    },
    {
      "cell_type": "code",
      "source": [
        "class parent:\n",
        "  def __init__(self, num):\n",
        "    self.__num = num\n",
        "\n",
        "  def get_num(self):\n",
        "    return self.__num\n",
        "\n",
        "class Child(parent):\n",
        "  def __init__(self, num, val):\n",
        "    super().__init__(num)\n",
        "    self.__val = val\n",
        "  def get_val(self):\n",
        "    return self.__val\n",
        "\n",
        "\n",
        "\n",
        "son = Child(10, 200)\n",
        "print(son.get_num())\n",
        "print(son.get_val())"
      ],
      "metadata": {
        "id": "thNcO52BmxwB",
        "outputId": "2aeeef5e-70bc-4d59-f5f8-b0d5229364c2",
        "colab": {
          "base_uri": "https://localhost:8080/"
        }
      },
      "execution_count": 107,
      "outputs": [
        {
          "output_type": "stream",
          "name": "stdout",
          "text": [
            "10\n",
            "200\n"
          ]
        }
      ]
    },
    {
      "cell_type": "code",
      "source": [
        "class Parent:\n",
        "    def __init__(self, num):\n",
        "        self.num = 100\n",
        "\n",
        "class Child(Parent):\n",
        "    def __init__(self):\n",
        "        super().__init__()\n",
        "        self.val = 200\n",
        "\n",
        "    def show(self):\n",
        "        print(self.num)\n",
        "        print(self.val)\n",
        "\n",
        "son = Child()\n",
        "son.show()\n"
      ],
      "metadata": {
        "id": "fMiEzZEoqPD6",
        "outputId": "36ba6d3b-96d6-429a-b697-fce4c562a19c",
        "colab": {
          "base_uri": "https://localhost:8080/",
          "height": 315
        }
      },
      "execution_count": 109,
      "outputs": [
        {
          "output_type": "error",
          "ename": "TypeError",
          "evalue": "Parent.__init__() missing 1 required positional argument: 'num'",
          "traceback": [
            "\u001b[0;31m---------------------------------------------------------------------------\u001b[0m",
            "\u001b[0;31mTypeError\u001b[0m                                 Traceback (most recent call last)",
            "\u001b[0;32m<ipython-input-109-67d4492e8c17>\u001b[0m in \u001b[0;36m<cell line: 14>\u001b[0;34m()\u001b[0m\n\u001b[1;32m     12\u001b[0m         \u001b[0mprint\u001b[0m\u001b[0;34m(\u001b[0m\u001b[0mself\u001b[0m\u001b[0;34m.\u001b[0m\u001b[0mval\u001b[0m\u001b[0;34m)\u001b[0m\u001b[0;34m\u001b[0m\u001b[0;34m\u001b[0m\u001b[0m\n\u001b[1;32m     13\u001b[0m \u001b[0;34m\u001b[0m\u001b[0m\n\u001b[0;32m---> 14\u001b[0;31m \u001b[0mson\u001b[0m \u001b[0;34m=\u001b[0m \u001b[0mChild\u001b[0m\u001b[0;34m(\u001b[0m\u001b[0;34m)\u001b[0m\u001b[0;34m\u001b[0m\u001b[0;34m\u001b[0m\u001b[0m\n\u001b[0m\u001b[1;32m     15\u001b[0m \u001b[0mson\u001b[0m\u001b[0;34m.\u001b[0m\u001b[0mshow\u001b[0m\u001b[0;34m(\u001b[0m\u001b[0;34m)\u001b[0m\u001b[0;34m\u001b[0m\u001b[0;34m\u001b[0m\u001b[0m\n",
            "\u001b[0;32m<ipython-input-109-67d4492e8c17>\u001b[0m in \u001b[0;36m__init__\u001b[0;34m(self)\u001b[0m\n\u001b[1;32m      5\u001b[0m \u001b[0;32mclass\u001b[0m \u001b[0mChild\u001b[0m\u001b[0;34m(\u001b[0m\u001b[0mParent\u001b[0m\u001b[0;34m)\u001b[0m\u001b[0;34m:\u001b[0m\u001b[0;34m\u001b[0m\u001b[0;34m\u001b[0m\u001b[0m\n\u001b[1;32m      6\u001b[0m     \u001b[0;32mdef\u001b[0m \u001b[0m__init__\u001b[0m\u001b[0;34m(\u001b[0m\u001b[0mself\u001b[0m\u001b[0;34m)\u001b[0m\u001b[0;34m:\u001b[0m\u001b[0;34m\u001b[0m\u001b[0;34m\u001b[0m\u001b[0m\n\u001b[0;32m----> 7\u001b[0;31m         \u001b[0msuper\u001b[0m\u001b[0;34m(\u001b[0m\u001b[0;34m)\u001b[0m\u001b[0;34m.\u001b[0m\u001b[0m__init__\u001b[0m\u001b[0;34m(\u001b[0m\u001b[0;34m)\u001b[0m\u001b[0;34m\u001b[0m\u001b[0;34m\u001b[0m\u001b[0m\n\u001b[0m\u001b[1;32m      8\u001b[0m         \u001b[0mself\u001b[0m\u001b[0;34m.\u001b[0m\u001b[0mval\u001b[0m \u001b[0;34m=\u001b[0m \u001b[0;36m200\u001b[0m\u001b[0;34m\u001b[0m\u001b[0;34m\u001b[0m\u001b[0m\n\u001b[1;32m      9\u001b[0m \u001b[0;34m\u001b[0m\u001b[0m\n",
            "\u001b[0;31mTypeError\u001b[0m: Parent.__init__() missing 1 required positional argument: 'num'"
          ]
        }
      ]
    },
    {
      "cell_type": "markdown",
      "source": [
        "# Type of Inheritance\n",
        "* single inheritance\n",
        "* Multilevel Inheritance\n",
        "* Hierarchical Inheritance\n",
        "* Multiple Inheritance(Diamond Problem)\n",
        "* Hybrid Inheritance"
      ],
      "metadata": {
        "id": "zZK3LgLTsLV7"
      }
    },
    {
      "cell_type": "code",
      "source": [
        "# Single Inheritance\n",
        "class phone:\n",
        "  def __init__(self, price, brand, camera):\n",
        "    print(\"Inside phone constructor\")\n",
        "    self.price = price\n",
        "    self.brand = brand\n",
        "    self.camera = camera\n",
        "\n",
        "  def buy (self):\n",
        "    print(\"Buying a phone\")\n",
        "\n",
        "class SamrtPhone(phone):\n",
        "\n",
        "  pass\n",
        "\n",
        "s = SamrtPhone(10000, \"Apple\", 12)\n",
        "s.buy()"
      ],
      "metadata": {
        "id": "Zvsl4jDArAyP",
        "outputId": "79db7c92-9826-4085-b8f8-146af51eca7a",
        "colab": {
          "base_uri": "https://localhost:8080/"
        }
      },
      "execution_count": 110,
      "outputs": [
        {
          "output_type": "stream",
          "name": "stdout",
          "text": [
            "Inside phone constructor\n",
            "Buying a phone\n"
          ]
        }
      ]
    },
    {
      "cell_type": "code",
      "source": [
        "# Multi Level Inheritance\n",
        "class Product:\n",
        "  def review(self):\n",
        "    print(\"Product customer review\")\n",
        "\n",
        "class Phone(Product):\n",
        "  def __init__(self, brand, price, camera):\n",
        "    self.brand = brand\n",
        "    self.price = price\n",
        "    self.camera = camera\n",
        "\n",
        "  def buy(self):\n",
        "    print(\"Buying a phone\")\n",
        "\n",
        "class SamrtPhone(Phone):\n",
        "  pass\n",
        "\n",
        "s = SamrtPhone(\"Apple\", 10000, 12)\n",
        "s.buy()\n",
        "s.review()"
      ],
      "metadata": {
        "id": "M-2Diat7vmkr",
        "outputId": "faefce87-1a9a-4be6-c47e-e3db2df4306e",
        "colab": {
          "base_uri": "https://localhost:8080/"
        }
      },
      "execution_count": 112,
      "outputs": [
        {
          "output_type": "stream",
          "name": "stdout",
          "text": [
            "Buying a phone\n",
            "Product customer review\n"
          ]
        }
      ]
    },
    {
      "cell_type": "code",
      "source": [
        "# Hierachical\n",
        "class phone:\n",
        "  def __init__(self, price, brand, camera):\n",
        "    print(\"Inside phone constructor\")\n",
        "    self.price = price\n",
        "    self.brand = brand\n",
        "    self.camera = camera\n",
        "\n",
        "  def buy(self):\n",
        "    print(\"Buing a phone\")\n",
        "\n",
        "class SamrtPhone(phone):\n",
        "  pass\n",
        "\n",
        "class meraphone(phone):\n",
        "  pass\n",
        "\n",
        "s = SamrtPhone(10000, \"Apple\", 12)\n",
        "m = meraphone(20000, \"Samsung\", 12)\n",
        "s.buy()\n",
        "m.buy()"
      ],
      "metadata": {
        "id": "r1ylyURuwFNS",
        "outputId": "2ec7f77e-f1f9-469d-a506-2b87af991f28",
        "colab": {
          "base_uri": "https://localhost:8080/"
        }
      },
      "execution_count": 113,
      "outputs": [
        {
          "output_type": "stream",
          "name": "stdout",
          "text": [
            "Inside phone constructor\n",
            "Inside phone constructor\n",
            "Buing a phone\n",
            "Buing a phone\n"
          ]
        }
      ]
    },
    {
      "cell_type": "code",
      "source": [
        "# Multiple\n",
        "class phone:\n",
        "  def __init__(self, price, brand, camera):\n",
        "    print(\"Inside phone constructor\")\n",
        "    self.price = price\n",
        "    self.brand = brand\n",
        "    self.camera = camera\n",
        "\n",
        "  def buy(self):\n",
        "    print(\"Buing a phone\")\n",
        "\n",
        "class product:\n",
        "  def review(self):\n",
        "    print(\"Customer review\")\n",
        "\n",
        "class Smartphone(phone, product):\n",
        "  pass\n",
        "\n",
        "s = Smartphone(10000, \"Apple\", 12)\n",
        "s.buy()\n",
        "s.review()"
      ],
      "metadata": {
        "id": "dH-Q62Q5wkkn",
        "outputId": "0dc54ec9-44e0-4963-fe92-d354b276ac17",
        "colab": {
          "base_uri": "https://localhost:8080/"
        }
      },
      "execution_count": 114,
      "outputs": [
        {
          "output_type": "stream",
          "name": "stdout",
          "text": [
            "Inside phone constructor\n",
            "Buing a phone\n",
            "Customer review\n"
          ]
        }
      ]
    },
    {
      "cell_type": "markdown",
      "source": [
        "# Polymorphism\n",
        "Polymorphism has multiple phases. the same thing behaves in different ways in different situations.\n",
        "* Method Overriding ( when you and your parent class have the same method)\n",
        "* Method Overloading (when you have the same method with different parameters in a single class)\n",
        "  * Why do we use method overloading as a programmer -> The code is more clean.But in python this will not work.\n",
        "  * Method overloading is a concept where inside your class you have multiple function with the same name. but output is different based on the input.\n",
        "* Operator Overloading (same operator behave differently in different inputs)"
      ],
      "metadata": {
        "id": "o6HPwUYsyycB"
      }
    },
    {
      "cell_type": "code",
      "source": [
        "class Shpae:\n",
        "  def area(self, radius):\n",
        "    return 3.14 * radius * radius\n",
        "\n",
        "  def area(self, length, breadth):\n",
        "    return length * breadth"
      ],
      "metadata": {
        "id": "zQIIsccaw6mw"
      },
      "execution_count": null,
      "outputs": []
    },
    {
      "cell_type": "code",
      "source": [
        "class Shpae:\n",
        "  def area(self, a, b=0):\n",
        "    if b == 0:\n",
        "      return 3.14 * a * a\n",
        "    else:\n",
        "      return a * b\n",
        "\n",
        "\n",
        "  def area(self, a, b):\n",
        "    return a * b"
      ],
      "metadata": {
        "id": "ONb7uK2F1hvU"
      },
      "execution_count": 118,
      "outputs": []
    },
    {
      "cell_type": "code",
      "source": [
        "s = Shpae()\n",
        "print(s.area(10, 5))\n",
        "print(s.area(10, 20))"
      ],
      "metadata": {
        "id": "6rcwN-dH1tkS",
        "outputId": "f9878c00-b318-459f-a266-8354859a7871",
        "colab": {
          "base_uri": "https://localhost:8080/"
        }
      },
      "execution_count": 121,
      "outputs": [
        {
          "output_type": "stream",
          "name": "stdout",
          "text": [
            "50\n",
            "200\n"
          ]
        }
      ]
    },
    {
      "cell_type": "code",
      "source": [
        "\"mausham\" + \"Kumar\""
      ],
      "metadata": {
        "id": "5uH3W9S31wyg",
        "outputId": "a5a823d4-10d6-44b3-c38a-46953f4a1ba5",
        "colab": {
          "base_uri": "https://localhost:8080/",
          "height": 35
        }
      },
      "execution_count": 122,
      "outputs": [
        {
          "output_type": "execute_result",
          "data": {
            "text/plain": [
              "'maushamKumar'"
            ],
            "application/vnd.google.colaboratory.intrinsic+json": {
              "type": "string"
            }
          },
          "metadata": {},
          "execution_count": 122
        }
      ]
    },
    {
      "cell_type": "code",
      "source": [
        "4 + 5"
      ],
      "metadata": {
        "id": "_xmd03Wt2hFL",
        "outputId": "ba5440ea-8c19-495d-f37f-911178902cbf",
        "colab": {
          "base_uri": "https://localhost:8080/"
        }
      },
      "execution_count": 123,
      "outputs": [
        {
          "output_type": "execute_result",
          "data": {
            "text/plain": [
              "9"
            ]
          },
          "metadata": {},
          "execution_count": 123
        }
      ]
    },
    {
      "cell_type": "code",
      "source": [
        "[1, 2, 3] + [4, 5, 6]"
      ],
      "metadata": {
        "id": "jQj0czOw2ict",
        "outputId": "08bf1b03-cba1-4a1b-e32c-66dae0134d5f",
        "colab": {
          "base_uri": "https://localhost:8080/"
        }
      },
      "execution_count": 124,
      "outputs": [
        {
          "output_type": "execute_result",
          "data": {
            "text/plain": [
              "[1, 2, 3, 4, 5, 6]"
            ]
          },
          "metadata": {},
          "execution_count": 124
        }
      ]
    },
    {
      "cell_type": "markdown",
      "source": [
        "# Abstractions"
      ],
      "metadata": {
        "id": "G-X566FdvGq0"
      }
    },
    {
      "cell_type": "code",
      "source": [
        "from abc import ABC, abstractmethod\n",
        "class BankApp(ABC): # Where we have at least one abstract method known as abstract class ( abstract method isa mehtod hota h jiske inder kuch bhi code nahi likha hota h)\n",
        "\n",
        "  def Database(self):\n",
        "    print(\"Connected to database ...\")\n",
        "\n",
        "  @abstractmethod\n",
        "  def security(self):\n",
        "    pass\n",
        "\n",
        "class MobileApp(BankApp):\n",
        "\n",
        "  def Mobile_login(self):\n",
        "    print(\"Login into mobile\")\n",
        "\n",
        "  def security(self):\n",
        "    print(\"Security check\")\n"
      ],
      "metadata": {
        "id": "SE0mse962kie"
      },
      "execution_count": 4,
      "outputs": []
    },
    {
      "cell_type": "code",
      "source": [
        "M = MobileApp()\n",
        "M.security()"
      ],
      "metadata": {
        "id": "AIluGhsmxkKY",
        "outputId": "82c35954-c248-47b6-88b2-de8b1f561e51",
        "colab": {
          "base_uri": "https://localhost:8080/"
        }
      },
      "execution_count": 5,
      "outputs": [
        {
          "output_type": "stream",
          "name": "stdout",
          "text": [
            "Security check\n"
          ]
        }
      ]
    }
  ]
}